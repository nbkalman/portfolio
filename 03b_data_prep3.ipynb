{
 "cells": [
  {
   "attachments": {},
   "cell_type": "markdown",
   "metadata": {},
   "source": [
    "# Data Prep of the CA NFIP claims, from FEMA\n",
    "##  Naomi Kalman\n",
    "##  Last edited: 1/4/2023\n",
    "\n",
    "This code loads the raw json file and cleans the data up to the point of making dummy variables\n",
    "\n",
    "Version 3 is revised and rearranged to match the flow of the final paper and make the code look nice for pasting. Any intermediate steps and thought processes have been removed, check in draft 2 folder for 02_data_prep2.ipynb for the working-draft code, especially the regex example for updating the flood zone.\n"
   ]
  },
  {
   "attachments": {},
   "cell_type": "markdown",
   "metadata": {},
   "source": [
    "# Goals: \n",
    "- shortest path to clean data\n",
    "- properly label categorical fields\n",
    "- run VIF\n",
    "- create dummy variables\n",
    "- export the clean data so can run the model without making the dataset over and over"
   ]
  },
  {
   "cell_type": "markdown",
   "metadata": {},
   "source": [
    "# 1. Load the data"
   ]
  },
  {
   "cell_type": "code",
   "execution_count": 1,
   "metadata": {},
   "outputs": [],
   "source": [
    "#load packages to read the json\n",
    "import pandas as pd\n",
    "import numpy as np\n",
    "import json\n",
    "import matplotlib.pyplot as plt\n",
    "import seaborn as sns"
   ]
  },
  {
   "cell_type": "code",
   "execution_count": 2,
   "metadata": {},
   "outputs": [],
   "source": [
    "pd.set_option('display.max_columns', None)"
   ]
  },
  {
   "attachments": {},
   "cell_type": "markdown",
   "metadata": {},
   "source": [
    "#code from Intermediate Importing Data in Python, Hugo Bowne-Anderson, Ch. 2: Interacting with APIs to import Data from the web, Video 1: Intro to APIs and JSON"
   ]
  },
  {
   "cell_type": "code",
   "execution_count": 3,
   "metadata": {},
   "outputs": [],
   "source": [
    "#load packages to read the json\n",
    "import pandas as pd\n",
    "import json\n",
    "\n",
    "#load the json file\n",
    "with open('output3.json','r') as json_file:\n",
    "    data = json.load(json_file)\n",
    "\n",
    "#create a dataframe from the key\n",
    "df = pd.DataFrame(data['FimaNfipClaims'])"
   ]
  },
  {
   "cell_type": "code",
   "execution_count": null,
   "metadata": {},
   "outputs": [],
   "source": [
    "df.shape"
   ]
  },
  {
   "cell_type": "code",
   "execution_count": null,
   "metadata": {},
   "outputs": [],
   "source": [
    "df.describe()"
   ]
  },
  {
   "cell_type": "code",
   "execution_count": null,
   "metadata": {},
   "outputs": [],
   "source": [
    "\n",
    "df.duplicated().sum()\n",
    "\n",
    "df.info()\n"
   ]
  },
  {
   "cell_type": "code",
   "execution_count": null,
   "metadata": {},
   "outputs": [],
   "source": [
    "df.info()"
   ]
  },
  {
   "cell_type": "markdown",
   "metadata": {},
   "source": [
    "# 2. Describe the Data"
   ]
  },
  {
   "cell_type": "code",
   "execution_count": null,
   "metadata": {},
   "outputs": [],
   "source": [
    "#create a dataframe of the null value counts, name the column \"count\"\n",
    "df_null = pd.DataFrame(df.isna().sum(), columns=['count'])\n",
    "\n",
    "#add a column to calculate the percentage of null values\n",
    "df_null['pct_null'] = round(df_null['count']/df.shape[0],4)*100"
   ]
  },
  {
   "cell_type": "code",
   "execution_count": null,
   "metadata": {},
   "outputs": [],
   "source": [
    "print(df_null)"
   ]
  },
  {
   "cell_type": "markdown",
   "metadata": {},
   "source": [
    "# 3. Preprocessing"
   ]
  },
  {
   "attachments": {},
   "cell_type": "markdown",
   "metadata": {},
   "source": [
    "Note that the order matters here, because as you remove columns and records the remaining values and categories change. Do the key indicators first. Dropping the non-residential properties first makes the claim amount part easier because there are fewer outliers."
   ]
  },
  {
   "cell_type": "markdown",
   "metadata": {},
   "source": [
    "Drop columns about geographic info such as lat/lon, zip code\n",
    "\n",
    "Drop columns that are poorly populated, drop rows where key metrics are sparse, then see what else is missing."
   ]
  },
  {
   "cell_type": "code",
   "execution_count": 4,
   "metadata": {},
   "outputs": [],
   "source": [
    "#drop geo columns\n",
    "geo_cols = ['reportedCity','countyCode','censusTract','latitude','longitude','reportedZipcode','state']\n",
    "df.drop(columns=geo_cols, inplace=True)\n",
    "\n",
    "#drop sparse columns \n",
    "sparse_cols = ['baseFloodElevation','basementEnclosureCrawlspace','elevationCertificateIndicator',\\\n",
    "    'elevationDifference','lowestAdjacentGrade','amountPaidOnIncreasedCostOfComplianceClaim',\\\n",
    "    'obstructionType','communityRatingSystemDiscount']\n",
    "df.drop(columns=sparse_cols, inplace=True)\n",
    "\n",
    "#drop date columns\n",
    "date_cols = ['asOfDate','originalNBDate','dateOfLoss','yearOfLoss','originalConstructionDate']\n",
    "df.drop(columns=date_cols, inplace=True)\n",
    "\n",
    "#drop non-relevant columns\n",
    "other_cols =['lowestFloorElevation','id','agricultureStructureIndicator','houseWorship',\\\n",
    "    'nonProfitIndicator','rateMethod','smallBusinessIndicatorBuilding']\n",
    "df.drop(columns=other_cols, inplace=True)"
   ]
  },
  {
   "cell_type": "code",
   "execution_count": 5,
   "metadata": {},
   "outputs": [
    {
     "data": {
      "text/plain": [
       "Index(['condominiumIndicator', 'policyCount', 'elevatedBuildingIndicator',\n",
       "       'floodZone', 'locationOfContents', 'numberOfFloorsInTheInsuredBuilding',\n",
       "       'occupancyType', 'amountPaidOnBuildingClaim',\n",
       "       'amountPaidOnContentsClaim', 'postFIRMConstructionIndicator',\n",
       "       'totalBuildingInsuranceCoverage', 'totalContentsInsuranceCoverage',\n",
       "       'primaryResidence'],\n",
       "      dtype='object')"
      ]
     },
     "execution_count": 5,
     "metadata": {},
     "output_type": "execute_result"
    }
   ],
   "source": [
    "df.columns"
   ]
  },
  {
   "attachments": {},
   "cell_type": "markdown",
   "metadata": {},
   "source": [
    "## remove non-residential properties\n",
    "Values are 4, 17, 18 and 19. see metadata at: https://www.fema.gov/openfema-data-page/fima-nfip-redacted-claims-v1\n",
    "\n",
    "Values are actually anything not 1 or 2 because everything else has different limits: \n",
    "https://www.fema.gov/sites/default/files/documents/fema_fim-3-how-to-write_apr2021.pdf"
   ]
  },
  {
   "cell_type": "code",
   "execution_count": 6,
   "metadata": {},
   "outputs": [
    {
     "name": "stdout",
     "output_type": "stream",
     "text": [
      "single family       40071\n",
      "2 to 4 unit bldg     3334\n",
      "Name: occupancyType, dtype: int64\n",
      "Total remaining records: 43405\n"
     ]
    }
   ],
   "source": [
    "#keep only the residential records and display the value counts\n",
    "#create a list of the residential occupancy codes\n",
    "my_list = [1.0,2.0]\n",
    "df = df.loc[df['occupancyType'].isin(my_list)]\n",
    "\n",
    "#replace the numeric codes with their text values\n",
    "occ_type_dict = {1.0:'single family',2.0:'2 to 4 unit bldg'}\n",
    "df['occupancyType'].replace(occ_type_dict,inplace=True)\n",
    "\n",
    "print(df['occupancyType'].value_counts())\n",
    "print('Total remaining records:', df.shape[0])"
   ]
  },
  {
   "cell_type": "markdown",
   "metadata": {},
   "source": [
    "## handle null values and zero-dollar claims in the buildings and contents"
   ]
  },
  {
   "cell_type": "markdown",
   "metadata": {},
   "source": [
    "Note: because null + number = null, need to fill the null values as zeros for the claim and insured amount columns. Then can do other processing, like divide by the number of policies, or add the two together\n",
    "\n",
    "Building and contents policies are taken out separately, so add total coverage together too"
   ]
  },
  {
   "cell_type": "markdown",
   "metadata": {},
   "source": [
    "### impute the missing values"
   ]
  },
  {
   "cell_type": "code",
   "execution_count": 7,
   "metadata": {},
   "outputs": [],
   "source": [
    "# fill the null values in building and contents claims with the number 0\n",
    "df['amountPaidOnBuildingClaim'] = df['amountPaidOnBuildingClaim'].fillna(0)\n",
    "df['amountPaidOnContentsClaim'] = df['amountPaidOnContentsClaim'].fillna(0)"
   ]
  },
  {
   "attachments": {},
   "cell_type": "markdown",
   "metadata": {},
   "source": [
    "### calculate the total damage and coverage\n",
    "### Drop records where total claim = 0; there should be a claim payment\n",
    "### remove contents over 100k, buildings over 250k"
   ]
  },
  {
   "cell_type": "code",
   "execution_count": 8,
   "metadata": {},
   "outputs": [
    {
     "name": "stdout",
     "output_type": "stream",
     "text": [
      "Records over $350,000 total:  0\n",
      "Total remaining records: 28361\n"
     ]
    }
   ],
   "source": [
    "#calculate the sum of the building and contents payment\n",
    "df['dmg_total'] = df['amountPaidOnBuildingClaim'] + df['amountPaidOnContentsClaim']\n",
    "\n",
    "#drop the records where total claim = 0\n",
    "df = df.loc[df['dmg_total']>0]\n",
    "\n",
    "#remove the claims over their individual maximums\n",
    "df = df.loc[df['amountPaidOnBuildingClaim']<=250000]\n",
    "df = df.loc[df['amountPaidOnContentsClaim']<=100000]\n",
    "\n",
    "print('Records over $350,000 total: ' ,df.loc[df['dmg_total']>350000].shape[0])\n",
    "print('Total remaining records:', df.shape[0])"
   ]
  },
  {
   "attachments": {},
   "cell_type": "markdown",
   "metadata": {},
   "source": [
    "### repeat for the coverage"
   ]
  },
  {
   "cell_type": "code",
   "execution_count": 9,
   "metadata": {},
   "outputs": [],
   "source": [
    "# fill the null values in building and contents coverage with the number 0\n",
    "df['totalBuildingInsuranceCoverage'] = df['totalBuildingInsuranceCoverage'].fillna(0)\n",
    "df['totalContentsInsuranceCoverage'] = df['totalContentsInsuranceCoverage'].fillna(0)\n",
    "\n",
    "#calculate the sum of the building and contents coverage\n",
    "df['cov_total'] = df['totalBuildingInsuranceCoverage'] + df['totalContentsInsuranceCoverage']"
   ]
  },
  {
   "attachments": {},
   "cell_type": "markdown",
   "metadata": {},
   "source": [
    "## drop records with policy count greater than 1"
   ]
  },
  {
   "cell_type": "code",
   "execution_count": 10,
   "metadata": {},
   "outputs": [
    {
     "name": "stdout",
     "output_type": "stream",
     "text": [
      "Total remaining records: 28220\n"
     ]
    }
   ],
   "source": [
    "#drop records with multiple policies\n",
    "df = df.loc[df['policyCount']==1]\n",
    "print('Total remaining records:', df.shape[0])"
   ]
  },
  {
   "cell_type": "markdown",
   "metadata": {},
   "source": [
    "## Flood zone: drop any null values"
   ]
  },
  {
   "attachments": {},
   "cell_type": "markdown",
   "metadata": {},
   "source": [
    "note that even though it is shown second in the write-up, it has to be done first because you cannot mask with NaN values (.loc[] uses a mask)"
   ]
  },
  {
   "cell_type": "code",
   "execution_count": 11,
   "metadata": {},
   "outputs": [
    {
     "name": "stdout",
     "output_type": "stream",
     "text": [
      "Total remaining records: 24748\n"
     ]
    }
   ],
   "source": [
    "#drop null flood zone\n",
    "df.dropna(subset=['floodZone'],inplace=True)\n",
    "print('Total remaining records:', df.shape[0])"
   ]
  },
  {
   "cell_type": "markdown",
   "metadata": {},
   "source": [
    "## Flood zone: group/rename the zones"
   ]
  },
  {
   "cell_type": "markdown",
   "metadata": {},
   "source": [
    "Plan: anything that starts with A should be A, anything B or X-Shaded should be B, C or X = C. D is its own category, maybe combine with other, unknown, or excluded. Decide about V, same hazard level as A but different action"
   ]
  },
  {
   "cell_type": "markdown",
   "metadata": {},
   "source": [
    "use this glossary to map the flood zones\n",
    "https://www.fema.gov/glossary/flood-zones\n",
    "\n",
    "after getting the letters sorted, try low (X,C), medium (B,X shaded), high(any A, any V). Not sure where to put D because it is \"unknown\" but needs to be in the list\n",
    "https://www.fema.gov/sites/default/files/2020-08/fema_understanding-zone-D-levees.pdf"
   ]
  },
  {
   "cell_type": "markdown",
   "metadata": {},
   "source": [
    "Wow, they don't actually differentiate between X and X shaded, since those are in two different columns in their dataset. They have X listed in the metadata as either B, C or X. So their own ridiculous data structure has ruined this attribute. I am going to have to treat X as its own thing. There are also no dual flood zones listed. "
   ]
  },
  {
   "cell_type": "code",
   "execution_count": 12,
   "metadata": {},
   "outputs": [
    {
     "data": {
      "text/plain": [
       "A    15420\n",
       "X     4138\n",
       "C     3330\n",
       "B     1229\n",
       "V      462\n",
       "D      169\n",
       "Name: flood_group, dtype: int64"
      ]
     },
     "execution_count": 12,
     "metadata": {},
     "output_type": "execute_result"
    }
   ],
   "source": [
    "#create a new column called flood group\n",
    "df['flood_group'] = df['floodZone']\n",
    "\n",
    "#update the values that start with A\n",
    "df.loc[df['floodZone'].str.contains('A'), 'flood_group'] = 'A'\n",
    "\n",
    "#update the values that start with v\n",
    "df.loc[df['floodZone'].str.contains('V'), 'flood_group'] = 'V'\n",
    "\n",
    "#show results\n",
    "df['flood_group'].value_counts()"
   ]
  },
  {
   "attachments": {},
   "cell_type": "markdown",
   "metadata": {},
   "source": [
    "## check data sparsity and drop null values from remaining non-categorical fields"
   ]
  },
  {
   "cell_type": "code",
   "execution_count": null,
   "metadata": {},
   "outputs": [],
   "source": [
    "df.isna().sum()"
   ]
  },
  {
   "cell_type": "code",
   "execution_count": null,
   "metadata": {},
   "outputs": [],
   "source": [
    "# #skip this, condo indicator is categorical\n",
    "# #drop records with null values in remaining columns\n",
    "# df.dropna(subset=['condominiumIndicator'],inplace=True)\n",
    "# print('Total remaining records:', df.shape[0])"
   ]
  },
  {
   "attachments": {},
   "cell_type": "markdown",
   "metadata": {},
   "source": [
    "# Process categorical fields"
   ]
  },
  {
   "attachments": {},
   "cell_type": "markdown",
   "metadata": {},
   "source": [
    "## check the distribution of the values in all the categorical fields, univariate statistics"
   ]
  },
  {
   "attachments": {},
   "cell_type": "markdown",
   "metadata": {},
   "source": [
    "this part isn't used in the final because I did each field individually, but it is usefull to have the list and see which are going to need what"
   ]
  },
  {
   "cell_type": "code",
   "execution_count": null,
   "metadata": {},
   "outputs": [],
   "source": [
    "cat_cols = ['condominiumIndicator','elevatedBuildingIndicator','locationOfContents'\\\n",
    "    ,'numberOfFloorsInTheInsuredBuilding','occupancyType','postFIRMConstructionIndicator'\\\n",
    "    ,'primaryResidence','flood_group']"
   ]
  },
  {
   "cell_type": "code",
   "execution_count": null,
   "metadata": {},
   "outputs": [],
   "source": [
    "for col in cat_cols:\n",
    "    print(df[col].value_counts().sort_index())"
   ]
  },
  {
   "attachments": {},
   "cell_type": "markdown",
   "metadata": {},
   "source": [
    "## this is all rearranged for the document flow of my paper"
   ]
  },
  {
   "attachments": {},
   "cell_type": "markdown",
   "metadata": {},
   "source": [
    "CONDO INDICATOR"
   ]
  },
  {
   "cell_type": "code",
   "execution_count": 13,
   "metadata": {},
   "outputs": [
    {
     "data": {
      "text/plain": [
       "A       13\n",
       "L        1\n",
       "N    24525\n",
       "U      170\n",
       "Name: condominiumIndicator, dtype: int64"
      ]
     },
     "execution_count": 13,
     "metadata": {},
     "output_type": "execute_result"
    }
   ],
   "source": [
    "#inspect the value counts for condo indicator\n",
    "df['condominiumIndicator'].value_counts().sort_index()"
   ]
  },
  {
   "cell_type": "code",
   "execution_count": 14,
   "metadata": {},
   "outputs": [
    {
     "name": "stdout",
     "output_type": "stream",
     "text": [
      "Total remaining records: 24734\n"
     ]
    }
   ],
   "source": [
    "#drop records from categories with fewer than 100 counts\n",
    "bad_condo = ['L','A']\n",
    "df = df.loc[~df['condominiumIndicator'].isin(bad_condo)]\n",
    "print('Total remaining records:', df.shape[0])"
   ]
  },
  {
   "attachments": {},
   "cell_type": "markdown",
   "metadata": {},
   "source": [
    "ELEVATED BUILDING"
   ]
  },
  {
   "cell_type": "code",
   "execution_count": 15,
   "metadata": {},
   "outputs": [
    {
     "data": {
      "text/plain": [
       "False    20852\n",
       "True      3882\n",
       "Name: elevatedBuildingIndicator, dtype: int64"
      ]
     },
     "execution_count": 15,
     "metadata": {},
     "output_type": "execute_result"
    }
   ],
   "source": [
    "#inspect the value counts for elevated building indicator\n",
    "df['elevatedBuildingIndicator'].value_counts().sort_index()"
   ]
  },
  {
   "cell_type": "code",
   "execution_count": 16,
   "metadata": {},
   "outputs": [],
   "source": [
    "#convert true/false to 1/0\n",
    "df['elevatedBuildingIndicator'].replace({False:0,True:1}, inplace=True)"
   ]
  },
  {
   "attachments": {},
   "cell_type": "markdown",
   "metadata": {},
   "source": [
    "LOCATION OF CONTENTS"
   ]
  },
  {
   "cell_type": "code",
   "execution_count": 17,
   "metadata": {},
   "outputs": [
    {
     "data": {
      "text/plain": [
       "0    9362\n",
       "1       2\n",
       "2    1582\n",
       "3    9070\n",
       "4    4237\n",
       "5      43\n",
       "6     141\n",
       "7     297\n",
       "Name: locationOfContents, dtype: int64"
      ]
     },
     "execution_count": 17,
     "metadata": {},
     "output_type": "execute_result"
    }
   ],
   "source": [
    "#inspect the value counts for location of contents field\n",
    "df['locationOfContents'].value_counts().sort_index()"
   ]
  },
  {
   "cell_type": "code",
   "execution_count": 18,
   "metadata": {},
   "outputs": [
    {
     "name": "stdout",
     "output_type": "stream",
     "text": [
      "Total remaining records: 24689\n"
     ]
    }
   ],
   "source": [
    "#remove categories of locations with sparse entries\n",
    "bad_loc = ['1','5']\n",
    "df = df.loc[~df['locationOfContents'].isin(bad_loc)]\n",
    "print('Total remaining records:', df.shape[0])"
   ]
  },
  {
   "cell_type": "code",
   "execution_count": 19,
   "metadata": {},
   "outputs": [
    {
     "data": {
      "text/plain": [
       "Lowest floor only         9070\n",
       "Lowest floor and above    4237\n",
       "Subgrade and above        1582\n",
       "Enclosure and above        297\n",
       "Mobile home                141\n",
       "Name: locationOfContents, dtype: int64"
      ]
     },
     "execution_count": 19,
     "metadata": {},
     "output_type": "execute_result"
    }
   ],
   "source": [
    "#map the location of contents to descriptive text\n",
    "#create a dictionary\n",
    "loc_cont_dict = {0:np.NaN, 1:'Subgrade only', 2:'Subgrade and above',\\\n",
    "    3:'Lowest floor only',4:'Lowest floor and above',\\\n",
    "    5:'More than one floor above',6:'Mobile home',7:'Enclosure and above'}\n",
    "\n",
    "#replace the values using the dictionary\n",
    "df['locationOfContents'].replace(loc_cont_dict, inplace=True)\n",
    "\n",
    "#show the value counts again\n",
    "df['locationOfContents'].value_counts()"
   ]
  },
  {
   "attachments": {},
   "cell_type": "markdown",
   "metadata": {},
   "source": [
    "NUMBER OF FLOORS"
   ]
  },
  {
   "cell_type": "code",
   "execution_count": 20,
   "metadata": {},
   "outputs": [
    {
     "data": {
      "text/plain": [
       "one              14534\n",
       "two               7819\n",
       "three or more     1730\n",
       "split level        441\n",
       "mobile home        164\n",
       "townhome             1\n",
       "Name: numberOfFloorsInTheInsuredBuilding, dtype: int64"
      ]
     },
     "execution_count": 20,
     "metadata": {},
     "output_type": "execute_result"
    }
   ],
   "source": [
    "# replace the codes with text for number of floors\n",
    "floors_dict = {1.0:'one',2.0:'two',3.0:'three or more',4.0:'split level',\\\n",
    "    5.0:'mobile home',6.0:'townhome'}\n",
    "df['numberOfFloorsInTheInsuredBuilding'].replace(floors_dict, inplace=True)\n",
    "\n",
    "#inspect the value counts for number of floors field\n",
    "df['numberOfFloorsInTheInsuredBuilding'].value_counts()"
   ]
  },
  {
   "cell_type": "code",
   "execution_count": 21,
   "metadata": {},
   "outputs": [
    {
     "name": "stdout",
     "output_type": "stream",
     "text": [
      "Total remaining records: 24688\n"
     ]
    }
   ],
   "source": [
    "#remove the townhome category\n",
    "df = df.loc[df['numberOfFloorsInTheInsuredBuilding']!='townhome']\n",
    "print('Total remaining records:', df.shape[0])"
   ]
  },
  {
   "attachments": {},
   "cell_type": "markdown",
   "metadata": {},
   "source": [
    "POST-FIRM INDICATOR"
   ]
  },
  {
   "cell_type": "code",
   "execution_count": 22,
   "metadata": {},
   "outputs": [
    {
     "data": {
      "text/plain": [
       "0    21631\n",
       "1     3057\n",
       "Name: postFIRMConstructionIndicator, dtype: int64"
      ]
     },
     "execution_count": 22,
     "metadata": {},
     "output_type": "execute_result"
    }
   ],
   "source": [
    "#convert true/false to 1/0\n",
    "df['postFIRMConstructionIndicator'].replace({False:0,True:1}, inplace=True)\n",
    "\n",
    "#inspect the value counts for the post-FIRM construction indicator\n",
    "df['postFIRMConstructionIndicator'].value_counts()"
   ]
  },
  {
   "attachments": {},
   "cell_type": "markdown",
   "metadata": {},
   "source": [
    "PRIMARY RESIDENCE"
   ]
  },
  {
   "cell_type": "code",
   "execution_count": 23,
   "metadata": {},
   "outputs": [
    {
     "data": {
      "text/plain": [
       "0    15497\n",
       "1     9191\n",
       "Name: primaryResidence, dtype: int64"
      ]
     },
     "execution_count": 23,
     "metadata": {},
     "output_type": "execute_result"
    }
   ],
   "source": [
    "#convert true/false to 1/0\n",
    "df['primaryResidence'].replace({False:0,True:1}, inplace=True)\n",
    "\n",
    "#inspect the value counts for the primary residence indicator\n",
    "df['primaryResidence'].value_counts()"
   ]
  },
  {
   "attachments": {},
   "cell_type": "markdown",
   "metadata": {},
   "source": [
    "## check data sparsity"
   ]
  },
  {
   "cell_type": "code",
   "execution_count": 24,
   "metadata": {},
   "outputs": [
    {
     "name": "stdout",
     "output_type": "stream",
     "text": [
      "total remaining records: 24688\n",
      "sparsity by column:\n",
      " condominiumIndicator                    38\n",
      "elevatedBuildingIndicator                0\n",
      "locationOfContents                    9361\n",
      "numberOfFloorsInTheInsuredBuilding       0\n",
      "occupancyType                            0\n",
      "postFIRMConstructionIndicator            0\n",
      "primaryResidence                         0\n",
      "flood_group                              0\n",
      "cov_total                                0\n",
      "dtype: int64\n",
      "total data sparsity:  0.04230125297040398\n"
     ]
    }
   ],
   "source": [
    "#check data sparsity in the predictor variables and overall dataset\n",
    "#predictor variables\n",
    "X = df.loc[:,['condominiumIndicator','elevatedBuildingIndicator','locationOfContents'\\\n",
    "    ,'numberOfFloorsInTheInsuredBuilding','occupancyType','postFIRMConstructionIndicator'\\\n",
    "    ,'primaryResidence','flood_group','cov_total']]\n",
    "\n",
    "print(\"total remaining records:\", X.shape[0])\n",
    "print(\"sparsity by column:\\n\", X.isna().sum())\n",
    "#total sparsity is the sum of the sum of the null values in each column\n",
    "#divided by the total size of the matrix\n",
    "print(\"total data sparsity: \", X.isna().sum().sum()/(X.shape[0]*X.shape[1]))"
   ]
  },
  {
   "attachments": {},
   "cell_type": "markdown",
   "metadata": {},
   "source": [
    "## univariate stats"
   ]
  },
  {
   "cell_type": "code",
   "execution_count": null,
   "metadata": {},
   "outputs": [],
   "source": [
    "import matplotlib.pyplot as plt\n",
    "\n",
    "#univariate statistics, continuous variables\n",
    "plt.hist(df['dmg_total'])\n",
    "plt.title(\"Total Payment\")\n",
    "plt.xlabel(\"Dollars of Payment\")\n",
    "plt.ylabel(\"Number of Claims\")\n",
    "plt.show()"
   ]
  },
  {
   "cell_type": "code",
   "execution_count": null,
   "metadata": {},
   "outputs": [],
   "source": [
    "#univariate statistics, continuous variables\n",
    "plt.hist(df['cov_total'])\n",
    "plt.title(\"Total Coverage\")\n",
    "plt.xlabel(\"Dollars of Coverage\")\n",
    "plt.ylabel(\"Number of Claims\")\n",
    "plt.show()"
   ]
  },
  {
   "cell_type": "code",
   "execution_count": null,
   "metadata": {},
   "outputs": [],
   "source": [
    "# #histogram of total damage\n",
    "# df['dmg_total'].hist()"
   ]
  },
  {
   "cell_type": "code",
   "execution_count": null,
   "metadata": {},
   "outputs": [],
   "source": [
    "cat_cols = ['condominiumIndicator','elevatedBuildingIndicator','locationOfContents'\\\n",
    "    ,'numberOfFloorsInTheInsuredBuilding','occupancyType','postFIRMConstructionIndicator'\\\n",
    "    ,'primaryResidence','flood_group']"
   ]
  },
  {
   "cell_type": "code",
   "execution_count": null,
   "metadata": {},
   "outputs": [],
   "source": [
    "# for col in cat_cols:\n",
    "#     #plt.bar(df[col].unique(),df[col].value_counts())\n",
    "#     plt.bar(df[col].value_counts().sort_index().index, df[col].value_counts().sort_index())\n",
    "#     plt.title(col)\n",
    "#     plt.show()"
   ]
  },
  {
   "cell_type": "code",
   "execution_count": null,
   "metadata": {},
   "outputs": [],
   "source": [
    "#univariate statistics\n",
    "from seaborn import sns\n",
    "\n",
    "for col in cat_cols:\n",
    "    sns.countplot(y=df[col], data=df)\n",
    "    plt.show()"
   ]
  },
  {
   "attachments": {},
   "cell_type": "markdown",
   "metadata": {},
   "source": [
    "## bivariate stats"
   ]
  },
  {
   "cell_type": "code",
   "execution_count": null,
   "metadata": {},
   "outputs": [],
   "source": [
    "#bivariate plot for continuous variables\n",
    "sns.scatterplot(x=df['cov_total'],y=df['dmg_total'],data=df)"
   ]
  },
  {
   "cell_type": "code",
   "execution_count": null,
   "metadata": {},
   "outputs": [],
   "source": [
    "for col in cat_cols:\n",
    "    sns.boxplot(x=col,y='dmg_total',data=df)\n",
    "    plt.show()"
   ]
  },
  {
   "cell_type": "code",
   "execution_count": null,
   "metadata": {},
   "outputs": [],
   "source": [
    "y = df['amountPaidOnBuildingClaim']\n",
    "x = df['amountPaidOnContentsClaim']\n",
    "\n",
    "plt.scatter(x,y)\n",
    "plt.xlabel(\"Amt Paid Contents\")\n",
    "plt.ylabel(\"Amt Paid Structure\")\n",
    "plt.show()"
   ]
  },
  {
   "cell_type": "code",
   "execution_count": null,
   "metadata": {},
   "outputs": [],
   "source": [
    "y = df['dmg_total']\n",
    "x = df['cov_total']\n",
    "\n",
    "plt.scatter(x,y)\n",
    "plt.show()"
   ]
  },
  {
   "cell_type": "code",
   "execution_count": 25,
   "metadata": {},
   "outputs": [],
   "source": [
    "#Simplify the columns names\n",
    "new_col_names = {'condominiumIndicator':'condo','elevatedBuildingIndicator':'elevated'\\\n",
    "    ,'numberOfFloorsInTheInsuredBuilding':'num_floors','postFIRMConstructionIndicator':'post_firm'\\\n",
    "    ,'amountPaidOnBuildingClaim':'dmg_bldg','amountPaidOnContentsClaim':'dmg_contents'\\\n",
    "    ,'totalBuildingInsuranceCoverage':'cov_bldg','totalContentsInsuranceCoverage':'cov_contents'}\n",
    "\n",
    "df.rename(columns=new_col_names, inplace=True)"
   ]
  },
  {
   "cell_type": "code",
   "execution_count": 26,
   "metadata": {},
   "outputs": [
    {
     "data": {
      "text/html": [
       "<div>\n",
       "<style scoped>\n",
       "    .dataframe tbody tr th:only-of-type {\n",
       "        vertical-align: middle;\n",
       "    }\n",
       "\n",
       "    .dataframe tbody tr th {\n",
       "        vertical-align: top;\n",
       "    }\n",
       "\n",
       "    .dataframe thead th {\n",
       "        text-align: right;\n",
       "    }\n",
       "</style>\n",
       "<table border=\"1\" class=\"dataframe\">\n",
       "  <thead>\n",
       "    <tr style=\"text-align: right;\">\n",
       "      <th></th>\n",
       "      <th>condo</th>\n",
       "      <th>policyCount</th>\n",
       "      <th>elevated</th>\n",
       "      <th>floodZone</th>\n",
       "      <th>locationOfContents</th>\n",
       "      <th>num_floors</th>\n",
       "      <th>occupancyType</th>\n",
       "      <th>dmg_bldg</th>\n",
       "      <th>dmg_contents</th>\n",
       "      <th>post_firm</th>\n",
       "      <th>cov_bldg</th>\n",
       "      <th>cov_contents</th>\n",
       "      <th>primaryResidence</th>\n",
       "      <th>dmg_total</th>\n",
       "      <th>cov_total</th>\n",
       "      <th>flood_group</th>\n",
       "    </tr>\n",
       "  </thead>\n",
       "  <tbody>\n",
       "    <tr>\n",
       "      <th>0</th>\n",
       "      <td>N</td>\n",
       "      <td>1</td>\n",
       "      <td>0</td>\n",
       "      <td>X</td>\n",
       "      <td>NaN</td>\n",
       "      <td>two</td>\n",
       "      <td>single family</td>\n",
       "      <td>2260.90</td>\n",
       "      <td>0.00</td>\n",
       "      <td>0</td>\n",
       "      <td>185000</td>\n",
       "      <td>60000</td>\n",
       "      <td>0</td>\n",
       "      <td>2260.90</td>\n",
       "      <td>245000</td>\n",
       "      <td>X</td>\n",
       "    </tr>\n",
       "    <tr>\n",
       "      <th>1</th>\n",
       "      <td>N</td>\n",
       "      <td>1</td>\n",
       "      <td>0</td>\n",
       "      <td>X</td>\n",
       "      <td>NaN</td>\n",
       "      <td>one</td>\n",
       "      <td>single family</td>\n",
       "      <td>12183.13</td>\n",
       "      <td>0.00</td>\n",
       "      <td>0</td>\n",
       "      <td>250000</td>\n",
       "      <td>100000</td>\n",
       "      <td>1</td>\n",
       "      <td>12183.13</td>\n",
       "      <td>350000</td>\n",
       "      <td>X</td>\n",
       "    </tr>\n",
       "    <tr>\n",
       "      <th>2</th>\n",
       "      <td>N</td>\n",
       "      <td>1</td>\n",
       "      <td>0</td>\n",
       "      <td>AO</td>\n",
       "      <td>NaN</td>\n",
       "      <td>one</td>\n",
       "      <td>single family</td>\n",
       "      <td>42858.09</td>\n",
       "      <td>32886.55</td>\n",
       "      <td>0</td>\n",
       "      <td>203500</td>\n",
       "      <td>63000</td>\n",
       "      <td>1</td>\n",
       "      <td>75744.64</td>\n",
       "      <td>266500</td>\n",
       "      <td>A</td>\n",
       "    </tr>\n",
       "    <tr>\n",
       "      <th>4</th>\n",
       "      <td>N</td>\n",
       "      <td>1</td>\n",
       "      <td>0</td>\n",
       "      <td>X</td>\n",
       "      <td>Lowest floor and above</td>\n",
       "      <td>two</td>\n",
       "      <td>single family</td>\n",
       "      <td>9765.99</td>\n",
       "      <td>0.00</td>\n",
       "      <td>0</td>\n",
       "      <td>250000</td>\n",
       "      <td>100000</td>\n",
       "      <td>1</td>\n",
       "      <td>9765.99</td>\n",
       "      <td>350000</td>\n",
       "      <td>X</td>\n",
       "    </tr>\n",
       "    <tr>\n",
       "      <th>6</th>\n",
       "      <td>N</td>\n",
       "      <td>1</td>\n",
       "      <td>0</td>\n",
       "      <td>AE</td>\n",
       "      <td>NaN</td>\n",
       "      <td>one</td>\n",
       "      <td>single family</td>\n",
       "      <td>52103.49</td>\n",
       "      <td>30000.00</td>\n",
       "      <td>0</td>\n",
       "      <td>173700</td>\n",
       "      <td>30000</td>\n",
       "      <td>1</td>\n",
       "      <td>82103.49</td>\n",
       "      <td>203700</td>\n",
       "      <td>A</td>\n",
       "    </tr>\n",
       "  </tbody>\n",
       "</table>\n",
       "</div>"
      ],
      "text/plain": [
       "  condo  policyCount  elevated floodZone      locationOfContents num_floors  \\\n",
       "0     N            1         0         X                     NaN        two   \n",
       "1     N            1         0         X                     NaN        one   \n",
       "2     N            1         0        AO                     NaN        one   \n",
       "4     N            1         0         X  Lowest floor and above        two   \n",
       "6     N            1         0        AE                     NaN        one   \n",
       "\n",
       "   occupancyType  dmg_bldg  dmg_contents  post_firm  cov_bldg  cov_contents  \\\n",
       "0  single family   2260.90          0.00          0    185000         60000   \n",
       "1  single family  12183.13          0.00          0    250000        100000   \n",
       "2  single family  42858.09      32886.55          0    203500         63000   \n",
       "4  single family   9765.99          0.00          0    250000        100000   \n",
       "6  single family  52103.49      30000.00          0    173700         30000   \n",
       "\n",
       "   primaryResidence  dmg_total  cov_total flood_group  \n",
       "0                 0    2260.90     245000           X  \n",
       "1                 1   12183.13     350000           X  \n",
       "2                 1   75744.64     266500           A  \n",
       "4                 1    9765.99     350000           X  \n",
       "6                 1   82103.49     203700           A  "
      ]
     },
     "execution_count": 26,
     "metadata": {},
     "output_type": "execute_result"
    }
   ],
   "source": [
    "df.head()"
   ]
  },
  {
   "cell_type": "code",
   "execution_count": null,
   "metadata": {},
   "outputs": [],
   "source": [
    "#export to .csv to use for analysis\n",
    "df.to_csv('df_clean.csv')"
   ]
  },
  {
   "attachments": {},
   "cell_type": "markdown",
   "metadata": {},
   "source": [
    "# INSTEAD OF TRYING TO MAKE ONE PERFECT DATASET AND MAKE THE DUMMY VARIABLES, EXPORT THE CLEANED UP THING AND MAKE THE DUMMIES IN THE NEXT STEP, THE ANALYSIS NOTEBOOK.\n",
    "# CAN ALSO DO THE CATEGORIES IN THE NEXT STEP, BUT NOT GOING TO USE THAT IDEA FOR THE PAPER SO JUST LEAVING IT HERE FOR POSTERITY OR SOMETHING"
   ]
  },
  {
   "attachments": {},
   "cell_type": "markdown",
   "metadata": {},
   "source": [
    "## Add a column for in flood zone or out of flood zone, for another pass through the model, and same for location of contents"
   ]
  },
  {
   "cell_type": "code",
   "execution_count": 27,
   "metadata": {},
   "outputs": [],
   "source": [
    "X_and_y = df.copy()"
   ]
  },
  {
   "cell_type": "code",
   "execution_count": 28,
   "metadata": {},
   "outputs": [
    {
     "data": {
      "text/html": [
       "<div>\n",
       "<style scoped>\n",
       "    .dataframe tbody tr th:only-of-type {\n",
       "        vertical-align: middle;\n",
       "    }\n",
       "\n",
       "    .dataframe tbody tr th {\n",
       "        vertical-align: top;\n",
       "    }\n",
       "\n",
       "    .dataframe thead th {\n",
       "        text-align: right;\n",
       "    }\n",
       "</style>\n",
       "<table border=\"1\" class=\"dataframe\">\n",
       "  <thead>\n",
       "    <tr style=\"text-align: right;\">\n",
       "      <th></th>\n",
       "      <th>condo</th>\n",
       "      <th>policyCount</th>\n",
       "      <th>elevated</th>\n",
       "      <th>floodZone</th>\n",
       "      <th>locationOfContents</th>\n",
       "      <th>num_floors</th>\n",
       "      <th>occupancyType</th>\n",
       "      <th>dmg_bldg</th>\n",
       "      <th>dmg_contents</th>\n",
       "      <th>post_firm</th>\n",
       "      <th>cov_bldg</th>\n",
       "      <th>cov_contents</th>\n",
       "      <th>primaryResidence</th>\n",
       "      <th>dmg_total</th>\n",
       "      <th>cov_total</th>\n",
       "      <th>flood_group</th>\n",
       "      <th>flood_bin</th>\n",
       "    </tr>\n",
       "  </thead>\n",
       "  <tbody>\n",
       "    <tr>\n",
       "      <th>0</th>\n",
       "      <td>N</td>\n",
       "      <td>1</td>\n",
       "      <td>0</td>\n",
       "      <td>X</td>\n",
       "      <td>NaN</td>\n",
       "      <td>two</td>\n",
       "      <td>single family</td>\n",
       "      <td>2260.90</td>\n",
       "      <td>0.00</td>\n",
       "      <td>0</td>\n",
       "      <td>185000</td>\n",
       "      <td>60000</td>\n",
       "      <td>0</td>\n",
       "      <td>2260.90</td>\n",
       "      <td>245000</td>\n",
       "      <td>X</td>\n",
       "      <td>OUT</td>\n",
       "    </tr>\n",
       "    <tr>\n",
       "      <th>1</th>\n",
       "      <td>N</td>\n",
       "      <td>1</td>\n",
       "      <td>0</td>\n",
       "      <td>X</td>\n",
       "      <td>NaN</td>\n",
       "      <td>one</td>\n",
       "      <td>single family</td>\n",
       "      <td>12183.13</td>\n",
       "      <td>0.00</td>\n",
       "      <td>0</td>\n",
       "      <td>250000</td>\n",
       "      <td>100000</td>\n",
       "      <td>1</td>\n",
       "      <td>12183.13</td>\n",
       "      <td>350000</td>\n",
       "      <td>X</td>\n",
       "      <td>OUT</td>\n",
       "    </tr>\n",
       "    <tr>\n",
       "      <th>2</th>\n",
       "      <td>N</td>\n",
       "      <td>1</td>\n",
       "      <td>0</td>\n",
       "      <td>AO</td>\n",
       "      <td>NaN</td>\n",
       "      <td>one</td>\n",
       "      <td>single family</td>\n",
       "      <td>42858.09</td>\n",
       "      <td>32886.55</td>\n",
       "      <td>0</td>\n",
       "      <td>203500</td>\n",
       "      <td>63000</td>\n",
       "      <td>1</td>\n",
       "      <td>75744.64</td>\n",
       "      <td>266500</td>\n",
       "      <td>A</td>\n",
       "      <td>IN</td>\n",
       "    </tr>\n",
       "    <tr>\n",
       "      <th>4</th>\n",
       "      <td>N</td>\n",
       "      <td>1</td>\n",
       "      <td>0</td>\n",
       "      <td>X</td>\n",
       "      <td>Lowest floor and above</td>\n",
       "      <td>two</td>\n",
       "      <td>single family</td>\n",
       "      <td>9765.99</td>\n",
       "      <td>0.00</td>\n",
       "      <td>0</td>\n",
       "      <td>250000</td>\n",
       "      <td>100000</td>\n",
       "      <td>1</td>\n",
       "      <td>9765.99</td>\n",
       "      <td>350000</td>\n",
       "      <td>X</td>\n",
       "      <td>OUT</td>\n",
       "    </tr>\n",
       "    <tr>\n",
       "      <th>6</th>\n",
       "      <td>N</td>\n",
       "      <td>1</td>\n",
       "      <td>0</td>\n",
       "      <td>AE</td>\n",
       "      <td>NaN</td>\n",
       "      <td>one</td>\n",
       "      <td>single family</td>\n",
       "      <td>52103.49</td>\n",
       "      <td>30000.00</td>\n",
       "      <td>0</td>\n",
       "      <td>173700</td>\n",
       "      <td>30000</td>\n",
       "      <td>1</td>\n",
       "      <td>82103.49</td>\n",
       "      <td>203700</td>\n",
       "      <td>A</td>\n",
       "      <td>IN</td>\n",
       "    </tr>\n",
       "  </tbody>\n",
       "</table>\n",
       "</div>"
      ],
      "text/plain": [
       "  condo  policyCount  elevated floodZone      locationOfContents num_floors  \\\n",
       "0     N            1         0         X                     NaN        two   \n",
       "1     N            1         0         X                     NaN        one   \n",
       "2     N            1         0        AO                     NaN        one   \n",
       "4     N            1         0         X  Lowest floor and above        two   \n",
       "6     N            1         0        AE                     NaN        one   \n",
       "\n",
       "   occupancyType  dmg_bldg  dmg_contents  post_firm  cov_bldg  cov_contents  \\\n",
       "0  single family   2260.90          0.00          0    185000         60000   \n",
       "1  single family  12183.13          0.00          0    250000        100000   \n",
       "2  single family  42858.09      32886.55          0    203500         63000   \n",
       "4  single family   9765.99          0.00          0    250000        100000   \n",
       "6  single family  52103.49      30000.00          0    173700         30000   \n",
       "\n",
       "   primaryResidence  dmg_total  cov_total flood_group flood_bin  \n",
       "0                 0    2260.90     245000           X       OUT  \n",
       "1                 1   12183.13     350000           X       OUT  \n",
       "2                 1   75744.64     266500           A        IN  \n",
       "4                 1    9765.99     350000           X       OUT  \n",
       "6                 1   82103.49     203700           A        IN  "
      ]
     },
     "execution_count": 28,
     "metadata": {},
     "output_type": "execute_result"
    }
   ],
   "source": [
    "#flood zone\n",
    "#write a dictionary to map the column\n",
    "flood_bin_dict = {'A':'IN','B':'OUT','C':'OUT','D':'UNK','X':'OUT','V':'IN'}\n",
    "\n",
    "#add a new column and assign the mapped values\n",
    "#https://pandas.pydata.org/docs/reference/api/pandas.DataFrame.assign.html\n",
    "X_and_y=X_and_y.assign(flood_bin=X_and_y['flood_group'].map(flood_bin_dict))\n",
    "\n",
    "X_and_y.head()\n"
   ]
  },
  {
   "cell_type": "code",
   "execution_count": 29,
   "metadata": {},
   "outputs": [
    {
     "data": {
      "text/html": [
       "<div>\n",
       "<style scoped>\n",
       "    .dataframe tbody tr th:only-of-type {\n",
       "        vertical-align: middle;\n",
       "    }\n",
       "\n",
       "    .dataframe tbody tr th {\n",
       "        vertical-align: top;\n",
       "    }\n",
       "\n",
       "    .dataframe thead th {\n",
       "        text-align: right;\n",
       "    }\n",
       "</style>\n",
       "<table border=\"1\" class=\"dataframe\">\n",
       "  <thead>\n",
       "    <tr style=\"text-align: right;\">\n",
       "      <th></th>\n",
       "      <th>condo</th>\n",
       "      <th>policyCount</th>\n",
       "      <th>elevated</th>\n",
       "      <th>floodZone</th>\n",
       "      <th>locationOfContents</th>\n",
       "      <th>num_floors</th>\n",
       "      <th>occupancyType</th>\n",
       "      <th>dmg_bldg</th>\n",
       "      <th>dmg_contents</th>\n",
       "      <th>post_firm</th>\n",
       "      <th>cov_bldg</th>\n",
       "      <th>cov_contents</th>\n",
       "      <th>primaryResidence</th>\n",
       "      <th>dmg_total</th>\n",
       "      <th>cov_total</th>\n",
       "      <th>flood_group</th>\n",
       "      <th>flood_bin</th>\n",
       "      <th>cont_subgrade</th>\n",
       "    </tr>\n",
       "  </thead>\n",
       "  <tbody>\n",
       "    <tr>\n",
       "      <th>0</th>\n",
       "      <td>N</td>\n",
       "      <td>1</td>\n",
       "      <td>0</td>\n",
       "      <td>X</td>\n",
       "      <td>NaN</td>\n",
       "      <td>two</td>\n",
       "      <td>single family</td>\n",
       "      <td>2260.90</td>\n",
       "      <td>0.00</td>\n",
       "      <td>0</td>\n",
       "      <td>185000</td>\n",
       "      <td>60000</td>\n",
       "      <td>0</td>\n",
       "      <td>2260.90</td>\n",
       "      <td>245000</td>\n",
       "      <td>X</td>\n",
       "      <td>OUT</td>\n",
       "      <td>NaN</td>\n",
       "    </tr>\n",
       "    <tr>\n",
       "      <th>1</th>\n",
       "      <td>N</td>\n",
       "      <td>1</td>\n",
       "      <td>0</td>\n",
       "      <td>X</td>\n",
       "      <td>NaN</td>\n",
       "      <td>one</td>\n",
       "      <td>single family</td>\n",
       "      <td>12183.13</td>\n",
       "      <td>0.00</td>\n",
       "      <td>0</td>\n",
       "      <td>250000</td>\n",
       "      <td>100000</td>\n",
       "      <td>1</td>\n",
       "      <td>12183.13</td>\n",
       "      <td>350000</td>\n",
       "      <td>X</td>\n",
       "      <td>OUT</td>\n",
       "      <td>NaN</td>\n",
       "    </tr>\n",
       "    <tr>\n",
       "      <th>2</th>\n",
       "      <td>N</td>\n",
       "      <td>1</td>\n",
       "      <td>0</td>\n",
       "      <td>AO</td>\n",
       "      <td>NaN</td>\n",
       "      <td>one</td>\n",
       "      <td>single family</td>\n",
       "      <td>42858.09</td>\n",
       "      <td>32886.55</td>\n",
       "      <td>0</td>\n",
       "      <td>203500</td>\n",
       "      <td>63000</td>\n",
       "      <td>1</td>\n",
       "      <td>75744.64</td>\n",
       "      <td>266500</td>\n",
       "      <td>A</td>\n",
       "      <td>IN</td>\n",
       "      <td>NaN</td>\n",
       "    </tr>\n",
       "    <tr>\n",
       "      <th>4</th>\n",
       "      <td>N</td>\n",
       "      <td>1</td>\n",
       "      <td>0</td>\n",
       "      <td>X</td>\n",
       "      <td>Lowest floor and above</td>\n",
       "      <td>two</td>\n",
       "      <td>single family</td>\n",
       "      <td>9765.99</td>\n",
       "      <td>0.00</td>\n",
       "      <td>0</td>\n",
       "      <td>250000</td>\n",
       "      <td>100000</td>\n",
       "      <td>1</td>\n",
       "      <td>9765.99</td>\n",
       "      <td>350000</td>\n",
       "      <td>X</td>\n",
       "      <td>OUT</td>\n",
       "      <td>0.0</td>\n",
       "    </tr>\n",
       "    <tr>\n",
       "      <th>6</th>\n",
       "      <td>N</td>\n",
       "      <td>1</td>\n",
       "      <td>0</td>\n",
       "      <td>AE</td>\n",
       "      <td>NaN</td>\n",
       "      <td>one</td>\n",
       "      <td>single family</td>\n",
       "      <td>52103.49</td>\n",
       "      <td>30000.00</td>\n",
       "      <td>0</td>\n",
       "      <td>173700</td>\n",
       "      <td>30000</td>\n",
       "      <td>1</td>\n",
       "      <td>82103.49</td>\n",
       "      <td>203700</td>\n",
       "      <td>A</td>\n",
       "      <td>IN</td>\n",
       "      <td>NaN</td>\n",
       "    </tr>\n",
       "  </tbody>\n",
       "</table>\n",
       "</div>"
      ],
      "text/plain": [
       "  condo  policyCount  elevated floodZone      locationOfContents num_floors  \\\n",
       "0     N            1         0         X                     NaN        two   \n",
       "1     N            1         0         X                     NaN        one   \n",
       "2     N            1         0        AO                     NaN        one   \n",
       "4     N            1         0         X  Lowest floor and above        two   \n",
       "6     N            1         0        AE                     NaN        one   \n",
       "\n",
       "   occupancyType  dmg_bldg  dmg_contents  post_firm  cov_bldg  cov_contents  \\\n",
       "0  single family   2260.90          0.00          0    185000         60000   \n",
       "1  single family  12183.13          0.00          0    250000        100000   \n",
       "2  single family  42858.09      32886.55          0    203500         63000   \n",
       "4  single family   9765.99          0.00          0    250000        100000   \n",
       "6  single family  52103.49      30000.00          0    173700         30000   \n",
       "\n",
       "   primaryResidence  dmg_total  cov_total flood_group flood_bin  cont_subgrade  \n",
       "0                 0    2260.90     245000           X       OUT            NaN  \n",
       "1                 1   12183.13     350000           X       OUT            NaN  \n",
       "2                 1   75744.64     266500           A        IN            NaN  \n",
       "4                 1    9765.99     350000           X       OUT            0.0  \n",
       "6                 1   82103.49     203700           A        IN            NaN  "
      ]
     },
     "execution_count": 29,
     "metadata": {},
     "output_type": "execute_result"
    }
   ],
   "source": [
    "#loc of contents\n",
    "#dictionary\n",
    "cont_bin_dict = {'Subgrade only':1,'Subgrade and above':1,'Lowest floor only':0,'Lowest floor and above':0,\\\n",
    "    'More than one floor above':0,'Mobile home':0,'Enclosure and above':0}\n",
    "\n",
    "#add a new column and assign the mapped values\n",
    "X_and_y=X_and_y.assign(cont_subgrade=X_and_y['locationOfContents'].map(cont_bin_dict))\n",
    "\n",
    "X_and_y.head()"
   ]
  },
  {
   "cell_type": "code",
   "execution_count": null,
   "metadata": {},
   "outputs": [],
   "source": [
    "#export to .csv to use for next part\n",
    "X_and_y.to_csv('X_and_y.csv')"
   ]
  }
 ],
 "metadata": {
  "kernelspec": {
   "display_name": "base",
   "language": "python",
   "name": "python3"
  },
  "language_info": {
   "codemirror_mode": {
    "name": "ipython",
    "version": 3
   },
   "file_extension": ".py",
   "mimetype": "text/x-python",
   "name": "python",
   "nbconvert_exporter": "python",
   "pygments_lexer": "ipython3",
   "version": "3.8.5"
  },
  "orig_nbformat": 4,
  "vscode": {
   "interpreter": {
    "hash": "48a558f6f849f96653a03d42da6d3043e7a86568579b929ae26b52c6590ebe0e"
   }
  }
 },
 "nbformat": 4,
 "nbformat_minor": 2
}
