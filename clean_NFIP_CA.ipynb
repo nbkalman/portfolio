{
 "cells": [
  {
   "attachments": {},
   "cell_type": "markdown",
   "metadata": {},
   "source": [
    "# Data Prep of the CA NFIP claims, from FEMA\n",
    "##  Naomi Kalman\n",
    "##  Last edited: 3/19/2023\n",
    "\n",
    "This code loads the raw json file and cleans the data up to the point of making dummy variables for a linear regression.\n",
    "\n",
    "__Note: please download the provided .json file to clean__\n"
   ]
  },
  {
   "attachments": {},
   "cell_type": "markdown",
   "metadata": {},
   "source": [
    "# Goals: \n",
    "- load the data from .json file\n",
    "- clean the data of null values and outliers\n",
    "- properly label categorical fields\n",
    "- perform univariate and bivariate statistics\n",
    "- export the clean data to use in a model"
   ]
  },
  {
   "cell_type": "markdown",
   "metadata": {},
   "source": [
    "# 1. Load the data"
   ]
  },
  {
   "cell_type": "code",
   "execution_count": 46,
   "metadata": {},
   "outputs": [],
   "source": [
    "#load packages to read the json\n",
    "import pandas as pd\n",
    "import numpy as np\n",
    "import json\n",
    "import matplotlib.pyplot as plt\n",
    "import seaborn as sns"
   ]
  },
  {
   "cell_type": "code",
   "execution_count": 47,
   "metadata": {},
   "outputs": [],
   "source": [
    "pd.set_option('display.max_columns', None)"
   ]
  },
  {
   "cell_type": "code",
   "execution_count": 48,
   "metadata": {},
   "outputs": [],
   "source": [
    "#code from Intermediate Importing Data in Python, Hugo Bowne-Anderson\n",
    "# Ch. 2: Interacting with APIs to import Data from the web, Video 1: Intro to APIs and JSON\n",
    "\n",
    "#load packages to read the json\n",
    "import pandas as pd\n",
    "import json\n",
    "\n",
    "#load the json file\n",
    "with open('output3.json','r') as json_file:\n",
    "    data = json.load(json_file)\n",
    "\n",
    "#create a dataframe from the key\n",
    "df = pd.DataFrame(data['FimaNfipClaims'])"
   ]
  },
  {
   "cell_type": "code",
   "execution_count": 49,
   "metadata": {},
   "outputs": [
    {
     "data": {
      "text/plain": [
       "(50994, 40)"
      ]
     },
     "execution_count": 49,
     "metadata": {},
     "output_type": "execute_result"
    }
   ],
   "source": [
    "#show how many rows and columns\n",
    "df.shape"
   ]
  },
  {
   "cell_type": "code",
   "execution_count": 50,
   "metadata": {},
   "outputs": [
    {
     "data": {
      "text/html": [
       "<div>\n",
       "<style scoped>\n",
       "    .dataframe tbody tr th:only-of-type {\n",
       "        vertical-align: middle;\n",
       "    }\n",
       "\n",
       "    .dataframe tbody tr th {\n",
       "        vertical-align: top;\n",
       "    }\n",
       "\n",
       "    .dataframe thead th {\n",
       "        text-align: right;\n",
       "    }\n",
       "</style>\n",
       "<table border=\"1\" class=\"dataframe\">\n",
       "  <thead>\n",
       "    <tr style=\"text-align: right;\">\n",
       "      <th></th>\n",
       "      <th>baseFloodElevation</th>\n",
       "      <th>basementEnclosureCrawlspace</th>\n",
       "      <th>policyCount</th>\n",
       "      <th>communityRatingSystemDiscount</th>\n",
       "      <th>elevationCertificateIndicator</th>\n",
       "      <th>elevationDifference</th>\n",
       "      <th>locationOfContents</th>\n",
       "      <th>lowestAdjacentGrade</th>\n",
       "      <th>lowestFloorElevation</th>\n",
       "      <th>numberOfFloorsInTheInsuredBuilding</th>\n",
       "      <th>occupancyType</th>\n",
       "      <th>amountPaidOnBuildingClaim</th>\n",
       "      <th>amountPaidOnContentsClaim</th>\n",
       "      <th>amountPaidOnIncreasedCostOfComplianceClaim</th>\n",
       "      <th>totalBuildingInsuranceCoverage</th>\n",
       "      <th>totalContentsInsuranceCoverage</th>\n",
       "      <th>yearOfLoss</th>\n",
       "    </tr>\n",
       "  </thead>\n",
       "  <tbody>\n",
       "    <tr>\n",
       "      <th>count</th>\n",
       "      <td>3123.000000</td>\n",
       "      <td>7655.000000</td>\n",
       "      <td>50994.000000</td>\n",
       "      <td>36602.000000</td>\n",
       "      <td>8583.000000</td>\n",
       "      <td>3787.000000</td>\n",
       "      <td>50994.000000</td>\n",
       "      <td>2421.000000</td>\n",
       "      <td>50994.000000</td>\n",
       "      <td>50964.000000</td>\n",
       "      <td>50974.000000</td>\n",
       "      <td>32182.000000</td>\n",
       "      <td>10754.000000</td>\n",
       "      <td>239.000000</td>\n",
       "      <td>5.099400e+04</td>\n",
       "      <td>50994.000000</td>\n",
       "      <td>50994.000000</td>\n",
       "    </tr>\n",
       "    <tr>\n",
       "      <th>mean</th>\n",
       "      <td>245.393532</td>\n",
       "      <td>1.244024</td>\n",
       "      <td>1.056144</td>\n",
       "      <td>6.968690</td>\n",
       "      <td>1.532331</td>\n",
       "      <td>2.031423</td>\n",
       "      <td>1.907205</td>\n",
       "      <td>160.052747</td>\n",
       "      <td>14.397706</td>\n",
       "      <td>1.548838</td>\n",
       "      <td>1.533154</td>\n",
       "      <td>16807.407860</td>\n",
       "      <td>8716.425605</td>\n",
       "      <td>4210.449707</td>\n",
       "      <td>1.250889e+05</td>\n",
       "      <td>22949.390124</td>\n",
       "      <td>1995.548672</td>\n",
       "    </tr>\n",
       "    <tr>\n",
       "      <th>std</th>\n",
       "      <td>683.673587</td>\n",
       "      <td>1.261589</td>\n",
       "      <td>1.176135</td>\n",
       "      <td>2.184141</td>\n",
       "      <td>0.801477</td>\n",
       "      <td>15.407060</td>\n",
       "      <td>1.716057</td>\n",
       "      <td>485.808809</td>\n",
       "      <td>181.805616</td>\n",
       "      <td>0.788327</td>\n",
       "      <td>1.245331</td>\n",
       "      <td>32725.106958</td>\n",
       "      <td>17996.946425</td>\n",
       "      <td>9497.798127</td>\n",
       "      <td>2.284528e+05</td>\n",
       "      <td>43321.060591</td>\n",
       "      <td>11.218008</td>\n",
       "    </tr>\n",
       "    <tr>\n",
       "      <th>min</th>\n",
       "      <td>-8.000000</td>\n",
       "      <td>0.000000</td>\n",
       "      <td>1.000000</td>\n",
       "      <td>1.000000</td>\n",
       "      <td>1.000000</td>\n",
       "      <td>-123.000000</td>\n",
       "      <td>0.000000</td>\n",
       "      <td>-8.900000</td>\n",
       "      <td>-10.900000</td>\n",
       "      <td>1.000000</td>\n",
       "      <td>1.000000</td>\n",
       "      <td>-5387.050000</td>\n",
       "      <td>-1156.040000</td>\n",
       "      <td>0.000000</td>\n",
       "      <td>0.000000e+00</td>\n",
       "      <td>0.000000</td>\n",
       "      <td>1974.000000</td>\n",
       "    </tr>\n",
       "    <tr>\n",
       "      <th>25%</th>\n",
       "      <td>10.000000</td>\n",
       "      <td>0.000000</td>\n",
       "      <td>1.000000</td>\n",
       "      <td>6.000000</td>\n",
       "      <td>1.000000</td>\n",
       "      <td>0.000000</td>\n",
       "      <td>0.000000</td>\n",
       "      <td>0.000000</td>\n",
       "      <td>0.000000</td>\n",
       "      <td>1.000000</td>\n",
       "      <td>1.000000</td>\n",
       "      <td>1952.920000</td>\n",
       "      <td>1064.655000</td>\n",
       "      <td>0.000000</td>\n",
       "      <td>3.500000e+04</td>\n",
       "      <td>0.000000</td>\n",
       "      <td>1986.000000</td>\n",
       "    </tr>\n",
       "    <tr>\n",
       "      <th>50%</th>\n",
       "      <td>54.000000</td>\n",
       "      <td>1.000000</td>\n",
       "      <td>1.000000</td>\n",
       "      <td>7.000000</td>\n",
       "      <td>1.000000</td>\n",
       "      <td>1.000000</td>\n",
       "      <td>3.000000</td>\n",
       "      <td>26.800000</td>\n",
       "      <td>0.000000</td>\n",
       "      <td>1.000000</td>\n",
       "      <td>1.000000</td>\n",
       "      <td>6265.360000</td>\n",
       "      <td>3337.275000</td>\n",
       "      <td>0.000000</td>\n",
       "      <td>1.000000e+05</td>\n",
       "      <td>5000.000000</td>\n",
       "      <td>1995.000000</td>\n",
       "    </tr>\n",
       "    <tr>\n",
       "      <th>75%</th>\n",
       "      <td>116.000000</td>\n",
       "      <td>2.000000</td>\n",
       "      <td>1.000000</td>\n",
       "      <td>8.000000</td>\n",
       "      <td>2.000000</td>\n",
       "      <td>3.000000</td>\n",
       "      <td>3.000000</td>\n",
       "      <td>61.500000</td>\n",
       "      <td>0.000000</td>\n",
       "      <td>2.000000</td>\n",
       "      <td>1.000000</td>\n",
       "      <td>18563.870000</td>\n",
       "      <td>10000.000000</td>\n",
       "      <td>0.000000</td>\n",
       "      <td>1.850000e+05</td>\n",
       "      <td>30000.000000</td>\n",
       "      <td>2001.000000</td>\n",
       "    </tr>\n",
       "    <tr>\n",
       "      <th>max</th>\n",
       "      <td>9990.000000</td>\n",
       "      <td>4.000000</td>\n",
       "      <td>103.000000</td>\n",
       "      <td>10.000000</td>\n",
       "      <td>4.000000</td>\n",
       "      <td>595.000000</td>\n",
       "      <td>7.000000</td>\n",
       "      <td>6624.000000</td>\n",
       "      <td>9992.000000</td>\n",
       "      <td>6.000000</td>\n",
       "      <td>18.000000</td>\n",
       "      <td>945107.760000</td>\n",
       "      <td>500000.000000</td>\n",
       "      <td>30000.000000</td>\n",
       "      <td>2.480000e+07</td>\n",
       "      <td>500000.000000</td>\n",
       "      <td>2022.000000</td>\n",
       "    </tr>\n",
       "  </tbody>\n",
       "</table>\n",
       "</div>"
      ],
      "text/plain": [
       "       baseFloodElevation  basementEnclosureCrawlspace   policyCount  \\\n",
       "count         3123.000000                  7655.000000  50994.000000   \n",
       "mean           245.393532                     1.244024      1.056144   \n",
       "std            683.673587                     1.261589      1.176135   \n",
       "min             -8.000000                     0.000000      1.000000   \n",
       "25%             10.000000                     0.000000      1.000000   \n",
       "50%             54.000000                     1.000000      1.000000   \n",
       "75%            116.000000                     2.000000      1.000000   \n",
       "max           9990.000000                     4.000000    103.000000   \n",
       "\n",
       "       communityRatingSystemDiscount  elevationCertificateIndicator  \\\n",
       "count                   36602.000000                    8583.000000   \n",
       "mean                        6.968690                       1.532331   \n",
       "std                         2.184141                       0.801477   \n",
       "min                         1.000000                       1.000000   \n",
       "25%                         6.000000                       1.000000   \n",
       "50%                         7.000000                       1.000000   \n",
       "75%                         8.000000                       2.000000   \n",
       "max                        10.000000                       4.000000   \n",
       "\n",
       "       elevationDifference  locationOfContents  lowestAdjacentGrade  \\\n",
       "count          3787.000000        50994.000000          2421.000000   \n",
       "mean              2.031423            1.907205           160.052747   \n",
       "std              15.407060            1.716057           485.808809   \n",
       "min            -123.000000            0.000000            -8.900000   \n",
       "25%               0.000000            0.000000             0.000000   \n",
       "50%               1.000000            3.000000            26.800000   \n",
       "75%               3.000000            3.000000            61.500000   \n",
       "max             595.000000            7.000000          6624.000000   \n",
       "\n",
       "       lowestFloorElevation  numberOfFloorsInTheInsuredBuilding  \\\n",
       "count          50994.000000                        50964.000000   \n",
       "mean              14.397706                            1.548838   \n",
       "std              181.805616                            0.788327   \n",
       "min              -10.900000                            1.000000   \n",
       "25%                0.000000                            1.000000   \n",
       "50%                0.000000                            1.000000   \n",
       "75%                0.000000                            2.000000   \n",
       "max             9992.000000                            6.000000   \n",
       "\n",
       "       occupancyType  amountPaidOnBuildingClaim  amountPaidOnContentsClaim  \\\n",
       "count   50974.000000               32182.000000               10754.000000   \n",
       "mean        1.533154               16807.407860                8716.425605   \n",
       "std         1.245331               32725.106958               17996.946425   \n",
       "min         1.000000               -5387.050000               -1156.040000   \n",
       "25%         1.000000                1952.920000                1064.655000   \n",
       "50%         1.000000                6265.360000                3337.275000   \n",
       "75%         1.000000               18563.870000               10000.000000   \n",
       "max        18.000000              945107.760000              500000.000000   \n",
       "\n",
       "       amountPaidOnIncreasedCostOfComplianceClaim  \\\n",
       "count                                  239.000000   \n",
       "mean                                  4210.449707   \n",
       "std                                   9497.798127   \n",
       "min                                      0.000000   \n",
       "25%                                      0.000000   \n",
       "50%                                      0.000000   \n",
       "75%                                      0.000000   \n",
       "max                                  30000.000000   \n",
       "\n",
       "       totalBuildingInsuranceCoverage  totalContentsInsuranceCoverage  \\\n",
       "count                    5.099400e+04                    50994.000000   \n",
       "mean                     1.250889e+05                    22949.390124   \n",
       "std                      2.284528e+05                    43321.060591   \n",
       "min                      0.000000e+00                        0.000000   \n",
       "25%                      3.500000e+04                        0.000000   \n",
       "50%                      1.000000e+05                     5000.000000   \n",
       "75%                      1.850000e+05                    30000.000000   \n",
       "max                      2.480000e+07                   500000.000000   \n",
       "\n",
       "         yearOfLoss  \n",
       "count  50994.000000  \n",
       "mean    1995.548672  \n",
       "std       11.218008  \n",
       "min     1974.000000  \n",
       "25%     1986.000000  \n",
       "50%     1995.000000  \n",
       "75%     2001.000000  \n",
       "max     2022.000000  "
      ]
     },
     "execution_count": 50,
     "metadata": {},
     "output_type": "execute_result"
    }
   ],
   "source": [
    "#view basic stats on numeric fields\n",
    "df.describe()"
   ]
  },
  {
   "cell_type": "code",
   "execution_count": 51,
   "metadata": {},
   "outputs": [
    {
     "data": {
      "text/plain": [
       "0"
      ]
     },
     "execution_count": 51,
     "metadata": {},
     "output_type": "execute_result"
    }
   ],
   "source": [
    "#are there any duplicated records?\n",
    "df.duplicated().sum()"
   ]
  },
  {
   "cell_type": "code",
   "execution_count": 52,
   "metadata": {},
   "outputs": [
    {
     "name": "stdout",
     "output_type": "stream",
     "text": [
      "<class 'pandas.core.frame.DataFrame'>\n",
      "RangeIndex: 50994 entries, 0 to 50993\n",
      "Data columns (total 40 columns):\n",
      " #   Column                                      Non-Null Count  Dtype  \n",
      "---  ------                                      --------------  -----  \n",
      " 0   agricultureStructureIndicator               50994 non-null  bool   \n",
      " 1   asOfDate                                    50994 non-null  object \n",
      " 2   baseFloodElevation                          3123 non-null   float64\n",
      " 3   basementEnclosureCrawlspace                 7655 non-null   float64\n",
      " 4   reportedCity                                50994 non-null  object \n",
      " 5   condominiumIndicator                        49884 non-null  object \n",
      " 6   policyCount                                 50994 non-null  int64  \n",
      " 7   countyCode                                  50717 non-null  object \n",
      " 8   communityRatingSystemDiscount               36602 non-null  float64\n",
      " 9   dateOfLoss                                  50994 non-null  object \n",
      " 10  elevatedBuildingIndicator                   50994 non-null  bool   \n",
      " 11  elevationCertificateIndicator               8583 non-null   float64\n",
      " 12  elevationDifference                         3787 non-null   float64\n",
      " 13  censusTract                                 49462 non-null  object \n",
      " 14  floodZone                                   44422 non-null  object \n",
      " 15  houseWorship                                50994 non-null  bool   \n",
      " 16  latitude                                    50747 non-null  object \n",
      " 17  longitude                                   50747 non-null  object \n",
      " 18  locationOfContents                          50994 non-null  int64  \n",
      " 19  lowestAdjacentGrade                         2421 non-null   float64\n",
      " 20  lowestFloorElevation                        50994 non-null  float64\n",
      " 21  numberOfFloorsInTheInsuredBuilding          50964 non-null  float64\n",
      " 22  nonProfitIndicator                          50994 non-null  bool   \n",
      " 23  obstructionType                             38880 non-null  object \n",
      " 24  occupancyType                               50974 non-null  float64\n",
      " 25  originalConstructionDate                    50992 non-null  object \n",
      " 26  originalNBDate                              50994 non-null  object \n",
      " 27  amountPaidOnBuildingClaim                   32182 non-null  float64\n",
      " 28  amountPaidOnContentsClaim                   10754 non-null  float64\n",
      " 29  amountPaidOnIncreasedCostOfComplianceClaim  239 non-null    float64\n",
      " 30  postFIRMConstructionIndicator               50994 non-null  bool   \n",
      " 31  rateMethod                                  49617 non-null  object \n",
      " 32  smallBusinessIndicatorBuilding              50994 non-null  bool   \n",
      " 33  state                                       50994 non-null  object \n",
      " 34  totalBuildingInsuranceCoverage              50994 non-null  int64  \n",
      " 35  totalContentsInsuranceCoverage              50994 non-null  int64  \n",
      " 36  yearOfLoss                                  50994 non-null  int64  \n",
      " 37  reportedZipcode                             50579 non-null  object \n",
      " 38  primaryResidence                            50994 non-null  bool   \n",
      " 39  id                                          50994 non-null  object \n",
      "dtypes: bool(7), float64(12), int64(5), object(16)\n",
      "memory usage: 13.2+ MB\n"
     ]
    }
   ],
   "source": [
    "#show the types and number of null values for each column\n",
    "df.info()"
   ]
  },
  {
   "cell_type": "markdown",
   "metadata": {},
   "source": [
    "# 2. Describe the Data"
   ]
  },
  {
   "cell_type": "code",
   "execution_count": 53,
   "metadata": {},
   "outputs": [],
   "source": [
    "#create a dataframe of the null value counts, name the column \"count\"\n",
    "df_null = pd.DataFrame(df.isna().sum(), columns=['count'])\n",
    "\n",
    "#add a column to calculate the percentage of null values\n",
    "df_null['pct_null'] = round(df_null['count']/df.shape[0],4)*100"
   ]
  },
  {
   "cell_type": "code",
   "execution_count": 54,
   "metadata": {},
   "outputs": [
    {
     "name": "stdout",
     "output_type": "stream",
     "text": [
      "                                            count  pct_null\n",
      "agricultureStructureIndicator                   0      0.00\n",
      "asOfDate                                        0      0.00\n",
      "baseFloodElevation                          47871     93.88\n",
      "basementEnclosureCrawlspace                 43339     84.99\n",
      "reportedCity                                    0      0.00\n",
      "condominiumIndicator                         1110      2.18\n",
      "policyCount                                     0      0.00\n",
      "countyCode                                    277      0.54\n",
      "communityRatingSystemDiscount               14392     28.22\n",
      "dateOfLoss                                      0      0.00\n",
      "elevatedBuildingIndicator                       0      0.00\n",
      "elevationCertificateIndicator               42411     83.17\n",
      "elevationDifference                         47207     92.57\n",
      "censusTract                                  1532      3.00\n",
      "floodZone                                    6572     12.89\n",
      "houseWorship                                    0      0.00\n",
      "latitude                                      247      0.48\n",
      "longitude                                     247      0.48\n",
      "locationOfContents                              0      0.00\n",
      "lowestAdjacentGrade                         48573     95.25\n",
      "lowestFloorElevation                            0      0.00\n",
      "numberOfFloorsInTheInsuredBuilding             30      0.06\n",
      "nonProfitIndicator                              0      0.00\n",
      "obstructionType                             12114     23.76\n",
      "occupancyType                                  20      0.04\n",
      "originalConstructionDate                        2      0.00\n",
      "originalNBDate                                  0      0.00\n",
      "amountPaidOnBuildingClaim                   18812     36.89\n",
      "amountPaidOnContentsClaim                   40240     78.91\n",
      "amountPaidOnIncreasedCostOfComplianceClaim  50755     99.53\n",
      "postFIRMConstructionIndicator                   0      0.00\n",
      "rateMethod                                   1377      2.70\n",
      "smallBusinessIndicatorBuilding                  0      0.00\n",
      "state                                           0      0.00\n",
      "totalBuildingInsuranceCoverage                  0      0.00\n",
      "totalContentsInsuranceCoverage                  0      0.00\n",
      "yearOfLoss                                      0      0.00\n",
      "reportedZipcode                               415      0.81\n",
      "primaryResidence                                0      0.00\n",
      "id                                              0      0.00\n"
     ]
    }
   ],
   "source": [
    "print(df_null)"
   ]
  },
  {
   "cell_type": "markdown",
   "metadata": {},
   "source": [
    "# 3. Preprocessing"
   ]
  },
  {
   "attachments": {},
   "cell_type": "markdown",
   "metadata": {},
   "source": [
    "Here I remove data fields that are not relevant to the analysis I was going to perform. Note that the order matters here, because as you remove columns and records the remaining values and categories change. Do the key indicators first. Dropping the non-residential properties first makes the claim amount part easier because there are fewer outliers."
   ]
  },
  {
   "cell_type": "markdown",
   "metadata": {},
   "source": [
    "Drop columns about geographic info such as lat/lon, zip code\n",
    "\n",
    "Drop columns that are poorly populated, drop rows where key metrics are sparse, then see what else is missing."
   ]
  },
  {
   "cell_type": "code",
   "execution_count": 55,
   "metadata": {},
   "outputs": [],
   "source": [
    "#drop geo columns\n",
    "geo_cols = ['reportedCity','countyCode','censusTract','latitude','longitude','reportedZipcode','state']\n",
    "df.drop(columns=geo_cols, inplace=True)\n",
    "\n",
    "#drop sparse columns \n",
    "sparse_cols = ['baseFloodElevation','basementEnclosureCrawlspace','elevationCertificateIndicator',\\\n",
    "    'elevationDifference','lowestAdjacentGrade','amountPaidOnIncreasedCostOfComplianceClaim',\\\n",
    "    'obstructionType','communityRatingSystemDiscount']\n",
    "df.drop(columns=sparse_cols, inplace=True)\n",
    "\n",
    "#drop date columns\n",
    "date_cols = ['asOfDate','originalNBDate','dateOfLoss','yearOfLoss','originalConstructionDate']\n",
    "df.drop(columns=date_cols, inplace=True)\n",
    "\n",
    "#drop non-relevant columns\n",
    "other_cols =['lowestFloorElevation','id','agricultureStructureIndicator','houseWorship',\\\n",
    "    'nonProfitIndicator','rateMethod','smallBusinessIndicatorBuilding']\n",
    "df.drop(columns=other_cols, inplace=True)"
   ]
  },
  {
   "cell_type": "code",
   "execution_count": 56,
   "metadata": {},
   "outputs": [
    {
     "data": {
      "text/plain": [
       "Index(['condominiumIndicator', 'policyCount', 'elevatedBuildingIndicator',\n",
       "       'floodZone', 'locationOfContents', 'numberOfFloorsInTheInsuredBuilding',\n",
       "       'occupancyType', 'amountPaidOnBuildingClaim',\n",
       "       'amountPaidOnContentsClaim', 'postFIRMConstructionIndicator',\n",
       "       'totalBuildingInsuranceCoverage', 'totalContentsInsuranceCoverage',\n",
       "       'primaryResidence'],\n",
       "      dtype='object')"
      ]
     },
     "execution_count": 56,
     "metadata": {},
     "output_type": "execute_result"
    }
   ],
   "source": [
    "#list the remaining columns\n",
    "df.columns"
   ]
  },
  {
   "attachments": {},
   "cell_type": "markdown",
   "metadata": {},
   "source": [
    "## Remove non-residential properties\n",
    "Non-residential values are 4, 17, 18 and 19. see metadata at: https://www.fema.gov/openfema-data-page/fima-nfip-redacted-claims-v1\n",
    "\n",
    "Values to remove are actually anything not 1 or 2 because everything else has different limits: \n",
    "https://www.fema.gov/sites/default/files/documents/fema_fim-3-how-to-write_apr2021.pdf"
   ]
  },
  {
   "cell_type": "code",
   "execution_count": 57,
   "metadata": {},
   "outputs": [
    {
     "name": "stdout",
     "output_type": "stream",
     "text": [
      "single family       40071\n",
      "2 to 4 unit bldg     3334\n",
      "Name: occupancyType, dtype: int64\n",
      "Total remaining records: 43405\n"
     ]
    }
   ],
   "source": [
    "#keep only the residential records and display the value counts\n",
    "#create a list of the residential occupancy codes\n",
    "my_list = [1.0,2.0]\n",
    "df = df.loc[df['occupancyType'].isin(my_list)]\n",
    "\n",
    "#replace the numeric codes with their text values\n",
    "occ_type_dict = {1.0:'single family',2.0:'2 to 4 unit bldg'}\n",
    "df['occupancyType'].replace(occ_type_dict,inplace=True)\n",
    "\n",
    "print(df['occupancyType'].value_counts())\n",
    "print('Total remaining records:', df.shape[0])"
   ]
  },
  {
   "attachments": {},
   "cell_type": "markdown",
   "metadata": {},
   "source": [
    "## Handle null values and zero-dollar claims in the buildings and contents"
   ]
  },
  {
   "attachments": {},
   "cell_type": "markdown",
   "metadata": {},
   "source": [
    "Note: because null + number = null, need to fill the null values as zeros for the claim and insured amount columns. Then can do other processing, like divide by the number of policies, or add the two together\n",
    "\n",
    "Building and contents policies are taken out separately, so add total coverage together"
   ]
  },
  {
   "cell_type": "markdown",
   "metadata": {},
   "source": [
    "### impute the missing values"
   ]
  },
  {
   "cell_type": "code",
   "execution_count": 58,
   "metadata": {},
   "outputs": [],
   "source": [
    "# fill the null values in building and contents claims with the number 0\n",
    "df['amountPaidOnBuildingClaim'] = df['amountPaidOnBuildingClaim'].fillna(0)\n",
    "df['amountPaidOnContentsClaim'] = df['amountPaidOnContentsClaim'].fillna(0)"
   ]
  },
  {
   "attachments": {},
   "cell_type": "markdown",
   "metadata": {},
   "source": [
    "### calculate the total damage and coverage\n",
    "Drop records where total claim = 0; there should be a claim payment\n",
    "\n",
    "Remove records with contents over 100k, buildings over 250k"
   ]
  },
  {
   "cell_type": "code",
   "execution_count": 59,
   "metadata": {},
   "outputs": [
    {
     "name": "stdout",
     "output_type": "stream",
     "text": [
      "Records over $350,000 total:  0\n",
      "Total remaining records: 28361\n"
     ]
    }
   ],
   "source": [
    "#calculate the sum of the building and contents payment\n",
    "df['dmg_total'] = df['amountPaidOnBuildingClaim'] + df['amountPaidOnContentsClaim']\n",
    "\n",
    "#drop the records where total claim = 0\n",
    "df = df.loc[df['dmg_total']>0]\n",
    "\n",
    "#remove the claims over their individual maximums\n",
    "df = df.loc[df['amountPaidOnBuildingClaim']<=250000]\n",
    "df = df.loc[df['amountPaidOnContentsClaim']<=100000]\n",
    "\n",
    "print('Records over $350,000 total: ' ,df.loc[df['dmg_total']>350000].shape[0])\n",
    "print('Total remaining records:', df.shape[0])"
   ]
  },
  {
   "attachments": {},
   "cell_type": "markdown",
   "metadata": {},
   "source": [
    "### repeat for the coverage"
   ]
  },
  {
   "cell_type": "code",
   "execution_count": 60,
   "metadata": {},
   "outputs": [],
   "source": [
    "# fill the null values in building and contents coverage with the number 0\n",
    "df['totalBuildingInsuranceCoverage'] = df['totalBuildingInsuranceCoverage'].fillna(0)\n",
    "df['totalContentsInsuranceCoverage'] = df['totalContentsInsuranceCoverage'].fillna(0)\n",
    "\n",
    "#calculate the sum of the building and contents coverage\n",
    "df['cov_total'] = df['totalBuildingInsuranceCoverage'] + df['totalContentsInsuranceCoverage']"
   ]
  },
  {
   "attachments": {},
   "cell_type": "markdown",
   "metadata": {},
   "source": [
    "## Drop records with policy count greater than 1"
   ]
  },
  {
   "cell_type": "code",
   "execution_count": 61,
   "metadata": {},
   "outputs": [
    {
     "name": "stdout",
     "output_type": "stream",
     "text": [
      "Total remaining records: 28220\n"
     ]
    }
   ],
   "source": [
    "#drop records with multiple policies\n",
    "df = df.loc[df['policyCount']==1]\n",
    "print('Total remaining records:', df.shape[0])"
   ]
  },
  {
   "cell_type": "markdown",
   "metadata": {},
   "source": [
    "## Flood zone: drop any null values"
   ]
  },
  {
   "cell_type": "code",
   "execution_count": 62,
   "metadata": {},
   "outputs": [
    {
     "name": "stdout",
     "output_type": "stream",
     "text": [
      "Total remaining records: 24748\n"
     ]
    }
   ],
   "source": [
    "#drop null flood zone\n",
    "df.dropna(subset=['floodZone'],inplace=True)\n",
    "print('Total remaining records:', df.shape[0])"
   ]
  },
  {
   "cell_type": "markdown",
   "metadata": {},
   "source": [
    "## Flood zone: group/rename the zones"
   ]
  },
  {
   "attachments": {},
   "cell_type": "markdown",
   "metadata": {},
   "source": [
    "Anything that starts with A should be A, anything B or X-Shaded should be B, C or X = C. D is its own category. V has the same hazard level as A but from a different flood action."
   ]
  },
  {
   "attachments": {},
   "cell_type": "markdown",
   "metadata": {},
   "source": [
    "Use this glossary to map the flood zones\n",
    "https://www.fema.gov/glossary/flood-zones\n",
    "\n",
    "If creating categories from the zones: low (X,C), medium (B,X shaded), high(any A, any V). D is it's own category because it is \"unknown\".\n",
    "https://www.fema.gov/sites/default/files/2020-08/fema_understanding-zone-D-levees.pdf"
   ]
  },
  {
   "attachments": {},
   "cell_type": "markdown",
   "metadata": {},
   "source": [
    "FEMA doesn't actually differentiate between X and X shaded in this datase. They are in two different columns in their flood shapefiles (downloaded map data). They have X listed in the metadata as either B, C or X, which means it isn't useful as an attribute. I am going to have to treat X as its own thing. There are also no dual flood zones listed. "
   ]
  },
  {
   "cell_type": "code",
   "execution_count": 63,
   "metadata": {},
   "outputs": [
    {
     "data": {
      "text/plain": [
       "A    15420\n",
       "X     4138\n",
       "C     3330\n",
       "B     1229\n",
       "V      462\n",
       "D      169\n",
       "Name: flood_group, dtype: int64"
      ]
     },
     "execution_count": 63,
     "metadata": {},
     "output_type": "execute_result"
    }
   ],
   "source": [
    "#create a new column called flood group\n",
    "df['flood_group'] = df['floodZone']\n",
    "\n",
    "#update the values that start with A\n",
    "df.loc[df['floodZone'].str.contains('A'), 'flood_group'] = 'A'\n",
    "\n",
    "#update the values that start with v\n",
    "df.loc[df['floodZone'].str.contains('V'), 'flood_group'] = 'V'\n",
    "\n",
    "#show results\n",
    "df['flood_group'].value_counts()"
   ]
  },
  {
   "attachments": {},
   "cell_type": "markdown",
   "metadata": {},
   "source": [
    "## check data sparsity and drop null values from remaining non-categorical fields"
   ]
  },
  {
   "cell_type": "code",
   "execution_count": 64,
   "metadata": {},
   "outputs": [
    {
     "data": {
      "text/plain": [
       "condominiumIndicator                  39\n",
       "policyCount                            0\n",
       "elevatedBuildingIndicator              0\n",
       "floodZone                              0\n",
       "locationOfContents                     0\n",
       "numberOfFloorsInTheInsuredBuilding     0\n",
       "occupancyType                          0\n",
       "amountPaidOnBuildingClaim              0\n",
       "amountPaidOnContentsClaim              0\n",
       "postFIRMConstructionIndicator          0\n",
       "totalBuildingInsuranceCoverage         0\n",
       "totalContentsInsuranceCoverage         0\n",
       "primaryResidence                       0\n",
       "dmg_total                              0\n",
       "cov_total                              0\n",
       "flood_group                            0\n",
       "dtype: int64"
      ]
     },
     "execution_count": 64,
     "metadata": {},
     "output_type": "execute_result"
    }
   ],
   "source": [
    "df.isna().sum()"
   ]
  },
  {
   "attachments": {},
   "cell_type": "markdown",
   "metadata": {},
   "source": [
    "# 4. Process categorical fields"
   ]
  },
  {
   "attachments": {},
   "cell_type": "markdown",
   "metadata": {},
   "source": [
    "## check the distribution of the values in all the categorical fields, perform univariate statistics"
   ]
  },
  {
   "cell_type": "code",
   "execution_count": 65,
   "metadata": {},
   "outputs": [],
   "source": [
    "cat_cols = ['condominiumIndicator','elevatedBuildingIndicator','locationOfContents'\\\n",
    "    ,'numberOfFloorsInTheInsuredBuilding','occupancyType','postFIRMConstructionIndicator'\\\n",
    "    ,'primaryResidence','flood_group']"
   ]
  },
  {
   "cell_type": "code",
   "execution_count": 66,
   "metadata": {},
   "outputs": [
    {
     "name": "stdout",
     "output_type": "stream",
     "text": [
      "A       13\n",
      "L        1\n",
      "N    24525\n",
      "U      170\n",
      "Name: condominiumIndicator, dtype: int64\n",
      "False    20865\n",
      "True      3883\n",
      "Name: elevatedBuildingIndicator, dtype: int64\n",
      "0    9368\n",
      "1       2\n",
      "2    1582\n",
      "3    9073\n",
      "4    4242\n",
      "5      43\n",
      "6     141\n",
      "7     297\n",
      "Name: locationOfContents, dtype: int64\n",
      "1.0    14542\n",
      "2.0     7855\n",
      "3.0     1745\n",
      "4.0      441\n",
      "5.0      164\n",
      "6.0        1\n",
      "Name: numberOfFloorsInTheInsuredBuilding, dtype: int64\n",
      "2 to 4 unit bldg     2008\n",
      "single family       22740\n",
      "Name: occupancyType, dtype: int64\n",
      "False    21683\n",
      "True      3065\n",
      "Name: postFIRMConstructionIndicator, dtype: int64\n",
      "False    15545\n",
      "True      9203\n",
      "Name: primaryResidence, dtype: int64\n",
      "A    15420\n",
      "B     1229\n",
      "C     3330\n",
      "D      169\n",
      "V      462\n",
      "X     4138\n",
      "Name: flood_group, dtype: int64\n"
     ]
    }
   ],
   "source": [
    "for col in cat_cols:\n",
    "    print(df[col].value_counts().sort_index())"
   ]
  },
  {
   "attachments": {},
   "cell_type": "markdown",
   "metadata": {},
   "source": [
    "## Drop categories with fewer than 100 records, convert True/False to 1/0"
   ]
  },
  {
   "attachments": {},
   "cell_type": "markdown",
   "metadata": {},
   "source": [
    "CONDO INDICATOR"
   ]
  },
  {
   "cell_type": "code",
   "execution_count": 67,
   "metadata": {},
   "outputs": [
    {
     "data": {
      "text/plain": [
       "A       13\n",
       "L        1\n",
       "N    24525\n",
       "U      170\n",
       "Name: condominiumIndicator, dtype: int64"
      ]
     },
     "execution_count": 67,
     "metadata": {},
     "output_type": "execute_result"
    }
   ],
   "source": [
    "#inspect the value counts for condo indicator\n",
    "df['condominiumIndicator'].value_counts().sort_index()"
   ]
  },
  {
   "cell_type": "code",
   "execution_count": 68,
   "metadata": {},
   "outputs": [
    {
     "name": "stdout",
     "output_type": "stream",
     "text": [
      "Total remaining records: 24734\n"
     ]
    }
   ],
   "source": [
    "#drop records from categories with fewer than 100 counts\n",
    "bad_condo = ['L','A']\n",
    "df = df.loc[~df['condominiumIndicator'].isin(bad_condo)]\n",
    "print('Total remaining records:', df.shape[0])"
   ]
  },
  {
   "attachments": {},
   "cell_type": "markdown",
   "metadata": {},
   "source": [
    "ELEVATED BUILDING"
   ]
  },
  {
   "cell_type": "code",
   "execution_count": 69,
   "metadata": {},
   "outputs": [
    {
     "data": {
      "text/plain": [
       "False    20852\n",
       "True      3882\n",
       "Name: elevatedBuildingIndicator, dtype: int64"
      ]
     },
     "execution_count": 69,
     "metadata": {},
     "output_type": "execute_result"
    }
   ],
   "source": [
    "#inspect the value counts for elevated building indicator\n",
    "df['elevatedBuildingIndicator'].value_counts().sort_index()"
   ]
  },
  {
   "cell_type": "code",
   "execution_count": 70,
   "metadata": {},
   "outputs": [],
   "source": [
    "#convert true/false to 1/0\n",
    "df['elevatedBuildingIndicator'].replace({False:0,True:1}, inplace=True)"
   ]
  },
  {
   "attachments": {},
   "cell_type": "markdown",
   "metadata": {},
   "source": [
    "LOCATION OF CONTENTS"
   ]
  },
  {
   "cell_type": "code",
   "execution_count": 71,
   "metadata": {},
   "outputs": [
    {
     "data": {
      "text/plain": [
       "0    9362\n",
       "1       2\n",
       "2    1582\n",
       "3    9070\n",
       "4    4237\n",
       "5      43\n",
       "6     141\n",
       "7     297\n",
       "Name: locationOfContents, dtype: int64"
      ]
     },
     "execution_count": 71,
     "metadata": {},
     "output_type": "execute_result"
    }
   ],
   "source": [
    "#inspect the value counts for location of contents field\n",
    "df['locationOfContents'].value_counts().sort_index()"
   ]
  },
  {
   "cell_type": "code",
   "execution_count": 72,
   "metadata": {},
   "outputs": [
    {
     "name": "stdout",
     "output_type": "stream",
     "text": [
      "Total remaining records: 24689\n"
     ]
    }
   ],
   "source": [
    "#remove categories of locations with sparse entries\n",
    "bad_loc = ['1','5']\n",
    "df = df.loc[~df['locationOfContents'].isin(bad_loc)]\n",
    "print('Total remaining records:', df.shape[0])"
   ]
  },
  {
   "cell_type": "code",
   "execution_count": 73,
   "metadata": {},
   "outputs": [
    {
     "data": {
      "text/plain": [
       "Lowest floor only         9070\n",
       "Lowest floor and above    4237\n",
       "Subgrade and above        1582\n",
       "Enclosure and above        297\n",
       "Mobile home                141\n",
       "Name: locationOfContents, dtype: int64"
      ]
     },
     "execution_count": 73,
     "metadata": {},
     "output_type": "execute_result"
    }
   ],
   "source": [
    "#map the location of contents to descriptive text\n",
    "#create a dictionary\n",
    "loc_cont_dict = {0:np.NaN, 1:'Subgrade only', 2:'Subgrade and above',\\\n",
    "    3:'Lowest floor only',4:'Lowest floor and above',\\\n",
    "    5:'More than one floor above',6:'Mobile home',7:'Enclosure and above'}\n",
    "\n",
    "#replace the values using the dictionary\n",
    "df['locationOfContents'].replace(loc_cont_dict, inplace=True)\n",
    "\n",
    "#show the value counts again\n",
    "df['locationOfContents'].value_counts()"
   ]
  },
  {
   "attachments": {},
   "cell_type": "markdown",
   "metadata": {},
   "source": [
    "NUMBER OF FLOORS"
   ]
  },
  {
   "cell_type": "code",
   "execution_count": 74,
   "metadata": {},
   "outputs": [
    {
     "data": {
      "text/plain": [
       "one              14534\n",
       "two               7819\n",
       "three or more     1730\n",
       "split level        441\n",
       "mobile home        164\n",
       "townhome             1\n",
       "Name: numberOfFloorsInTheInsuredBuilding, dtype: int64"
      ]
     },
     "execution_count": 74,
     "metadata": {},
     "output_type": "execute_result"
    }
   ],
   "source": [
    "# replace the codes with text for number of floors\n",
    "floors_dict = {1.0:'one',2.0:'two',3.0:'three or more',4.0:'split level',\\\n",
    "    5.0:'mobile home',6.0:'townhome'}\n",
    "df['numberOfFloorsInTheInsuredBuilding'].replace(floors_dict, inplace=True)\n",
    "\n",
    "#inspect the value counts for number of floors field\n",
    "df['numberOfFloorsInTheInsuredBuilding'].value_counts()"
   ]
  },
  {
   "cell_type": "code",
   "execution_count": 75,
   "metadata": {},
   "outputs": [
    {
     "name": "stdout",
     "output_type": "stream",
     "text": [
      "Total remaining records: 24688\n"
     ]
    }
   ],
   "source": [
    "#remove the townhome category\n",
    "df = df.loc[df['numberOfFloorsInTheInsuredBuilding']!='townhome']\n",
    "print('Total remaining records:', df.shape[0])"
   ]
  },
  {
   "attachments": {},
   "cell_type": "markdown",
   "metadata": {},
   "source": [
    "POST-FIRM INDICATOR"
   ]
  },
  {
   "cell_type": "code",
   "execution_count": 76,
   "metadata": {},
   "outputs": [
    {
     "data": {
      "text/plain": [
       "0    21631\n",
       "1     3057\n",
       "Name: postFIRMConstructionIndicator, dtype: int64"
      ]
     },
     "execution_count": 76,
     "metadata": {},
     "output_type": "execute_result"
    }
   ],
   "source": [
    "#convert true/false to 1/0\n",
    "df['postFIRMConstructionIndicator'].replace({False:0,True:1}, inplace=True)\n",
    "\n",
    "#inspect the value counts for the post-FIRM construction indicator\n",
    "df['postFIRMConstructionIndicator'].value_counts()"
   ]
  },
  {
   "attachments": {},
   "cell_type": "markdown",
   "metadata": {},
   "source": [
    "PRIMARY RESIDENCE"
   ]
  },
  {
   "cell_type": "code",
   "execution_count": 77,
   "metadata": {},
   "outputs": [
    {
     "data": {
      "text/plain": [
       "0    15497\n",
       "1     9191\n",
       "Name: primaryResidence, dtype: int64"
      ]
     },
     "execution_count": 77,
     "metadata": {},
     "output_type": "execute_result"
    }
   ],
   "source": [
    "#convert true/false to 1/0\n",
    "df['primaryResidence'].replace({False:0,True:1}, inplace=True)\n",
    "\n",
    "#inspect the value counts for the primary residence indicator\n",
    "df['primaryResidence'].value_counts()"
   ]
  },
  {
   "attachments": {},
   "cell_type": "markdown",
   "metadata": {},
   "source": [
    "## check data sparsity"
   ]
  },
  {
   "cell_type": "code",
   "execution_count": 78,
   "metadata": {},
   "outputs": [
    {
     "name": "stdout",
     "output_type": "stream",
     "text": [
      "total remaining records: 24688\n",
      "sparsity by column:\n",
      " condominiumIndicator                    38\n",
      "elevatedBuildingIndicator                0\n",
      "locationOfContents                    9361\n",
      "numberOfFloorsInTheInsuredBuilding       0\n",
      "occupancyType                            0\n",
      "postFIRMConstructionIndicator            0\n",
      "primaryResidence                         0\n",
      "flood_group                              0\n",
      "cov_total                                0\n",
      "dtype: int64\n",
      "total data sparsity:  0.04230125297040398\n"
     ]
    }
   ],
   "source": [
    "#check data sparsity in the predictor variables and overall dataset\n",
    "#predictor variables\n",
    "X = df.loc[:,['condominiumIndicator','elevatedBuildingIndicator','locationOfContents'\\\n",
    "    ,'numberOfFloorsInTheInsuredBuilding','occupancyType','postFIRMConstructionIndicator'\\\n",
    "    ,'primaryResidence','flood_group','cov_total']]\n",
    "\n",
    "print(\"total remaining records:\", X.shape[0])\n",
    "print(\"sparsity by column:\\n\", X.isna().sum())\n",
    "#total sparsity is the sum of the sum of the null values in each column\n",
    "#divided by the total size of the matrix\n",
    "print(\"total data sparsity: \", X.isna().sum().sum()/(X.shape[0]*X.shape[1]))"
   ]
  },
  {
   "attachments": {},
   "cell_type": "markdown",
   "metadata": {},
   "source": [
    "# 5. Plot univariate stats for cleaned fields"
   ]
  },
  {
   "attachments": {},
   "cell_type": "markdown",
   "metadata": {},
   "source": [
    "### Continuous variables"
   ]
  },
  {
   "cell_type": "code",
   "execution_count": 79,
   "metadata": {},
   "outputs": [
    {
     "data": {
      "image/png": "[encoded data removed]",
      "text/plain": [
       "<Figure size 432x288 with 1 Axes>"
      ]
     },
     "metadata": {
      "needs_background": "light"
     },
     "output_type": "display_data"
    }
   ],
   "source": [
    "import matplotlib.pyplot as plt\n",
    "\n",
    "#univariate statistics, continuous variables\n",
    "#histogram of the target variable\n",
    "plt.hist(df['dmg_total'])\n",
    "plt.title(\"Total Payment\")\n",
    "plt.xlabel(\"Dollars of Payment\")\n",
    "plt.ylabel(\"Number of Claims\")\n",
    "plt.show()"
   ]
  },
  {
   "cell_type": "code",
   "execution_count": 80,
   "metadata": {},
   "outputs": [
    {
     "data": {
      "image/png": "[encoded data removed]",
      "text/plain": [
       "<Figure size 432x288 with 1 Axes>"
      ]
     },
     "metadata": {
      "needs_background": "light"
     },
     "output_type": "display_data"
    }
   ],
   "source": [
    "#univariate statistics, continuous variables\n",
    "#histogram of total coverage (response variable)\n",
    "plt.hist(df['cov_total'])\n",
    "plt.title(\"Total Coverage\")\n",
    "plt.xlabel(\"Dollars of Coverage\")\n",
    "plt.ylabel(\"Number of Claims\")\n",
    "plt.show()"
   ]
  },
  {
   "attachments": {},
   "cell_type": "markdown",
   "metadata": {},
   "source": [
    "### Categorical Variables"
   ]
  },
  {
   "cell_type": "code",
   "execution_count": 81,
   "metadata": {},
   "outputs": [],
   "source": [
    "#list the categorical columns\n",
    "cat_cols = ['condominiumIndicator','elevatedBuildingIndicator','locationOfContents'\\\n",
    "    ,'numberOfFloorsInTheInsuredBuilding','occupancyType','postFIRMConstructionIndicator'\\\n",
    "    ,'primaryResidence','flood_group']"
   ]
  },
  {
   "cell_type": "code",
   "execution_count": 82,
   "metadata": {},
   "outputs": [
    {
     "data": {
      "image/png": "[encoded data removed]",
      "text/plain": [
       "<Figure size 432x288 with 1 Axes>"
      ]
     },
     "metadata": {
      "needs_background": "light"
     },
     "output_type": "display_data"
    },
    {
     "data": {
      "image/png": "[encoded data removed]",
      "text/plain": [
       "<Figure size 432x288 with 1 Axes>"
      ]
     },
     "metadata": {
      "needs_background": "light"
     },
     "output_type": "display_data"
    },
    {
     "data": {
      "image/png": "[encoded data removed]",
      "text/plain": [
       "<Figure size 432x288 with 1 Axes>"
      ]
     },
     "metadata": {
      "needs_background": "light"
     },
     "output_type": "display_data"
    },
    {
     "data": {
      "image/png": "[encoded data removed]",
      "text/plain": [
       "<Figure size 432x288 with 1 Axes>"
      ]
     },
     "metadata": {
      "needs_background": "light"
     },
     "output_type": "display_data"
    },
    {
     "data": {
      "image/png": "[encoded data removed]",
      "text/plain": [
       "<Figure size 432x288 with 1 Axes>"
      ]
     },
     "metadata": {
      "needs_background": "light"
     },
     "output_type": "display_data"
    },
    {
     "data": {
      "image/png": "[encoded data removed]",
      "text/plain": [
       "<Figure size 432x288 with 1 Axes>"
      ]
     },
     "metadata": {
      "needs_background": "light"
     },
     "output_type": "display_data"
    },
    {
     "data": {
      "image/png": "[encoded data removed]",
      "text/plain": [
       "<Figure size 432x288 with 1 Axes>"
      ]
     },
     "metadata": {
      "needs_background": "light"
     },
     "output_type": "display_data"
    },
    {
     "data": {
      "image/png": "[encoded data removed]",
      "text/plain": [
       "<Figure size 432x288 with 1 Axes>"
      ]
     },
     "metadata": {
      "needs_background": "light"
     },
     "output_type": "display_data"
    }
   ],
   "source": [
    "#univariate statistics\n",
    "import seaborn as sns\n",
    "\n",
    "for col in cat_cols:\n",
    "    sns.countplot(y=df[col], data=df)\n",
    "    plt.show()"
   ]
  },
  {
   "attachments": {},
   "cell_type": "markdown",
   "metadata": {},
   "source": [
    "# 6. Plot bivariate stats for cleaned data"
   ]
  },
  {
   "attachments": {},
   "cell_type": "markdown",
   "metadata": {},
   "source": [
    "### Continous variables"
   ]
  },
  {
   "cell_type": "code",
   "execution_count": 83,
   "metadata": {},
   "outputs": [
    {
     "data": {
      "text/plain": [
       "<AxesSubplot:xlabel='cov_total', ylabel='dmg_total'>"
      ]
     },
     "execution_count": 83,
     "metadata": {},
     "output_type": "execute_result"
    },
    {
     "data": {
      "image/png": "[encoded data removed]",
      "text/plain": [
       "<Figure size 432x288 with 1 Axes>"
      ]
     },
     "metadata": {
      "needs_background": "light"
     },
     "output_type": "display_data"
    }
   ],
   "source": [
    "#bivariate plot for continuous variables\n",
    "sns.scatterplot(x=df['cov_total'],y=df['dmg_total'],data=df)"
   ]
  },
  {
   "attachments": {},
   "cell_type": "markdown",
   "metadata": {},
   "source": [
    "### Categorical variables"
   ]
  },
  {
   "cell_type": "code",
   "execution_count": 84,
   "metadata": {},
   "outputs": [
    {
     "data": {
      "image/png": "[encoded data removed]",
      "text/plain": [
       "<Figure size 432x288 with 1 Axes>"
      ]
     },
     "metadata": {
      "needs_background": "light"
     },
     "output_type": "display_data"
    },
    {
     "data": {
      "image/png": "[encoded data removed]",
      "text/plain": [
       "<Figure size 432x288 with 1 Axes>"
      ]
     },
     "metadata": {
      "needs_background": "light"
     },
     "output_type": "display_data"
    },
    {
     "data": {
      "image/png": "[encoded data removed]",
      "text/plain": [
       "<Figure size 432x288 with 1 Axes>"
      ]
     },
     "metadata": {
      "needs_background": "light"
     },
     "output_type": "display_data"
    },
    {
     "data": {
      "image/png": "[encoded data removed]",
      "text/plain": [
       "<Figure size 432x288 with 1 Axes>"
      ]
     },
     "metadata": {
      "needs_background": "light"
     },
     "output_type": "display_data"
    },
    {
     "data": {
      "image/png": "[encoded data removed]",
      "text/plain": [
       "<Figure size 432x288 with 1 Axes>"
      ]
     },
     "metadata": {
      "needs_background": "light"
     },
     "output_type": "display_data"
    },
    {
     "data": {
      "image/png": "[encoded data removed]",
      "text/plain": [
       "<Figure size 432x288 with 1 Axes>"
      ]
     },
     "metadata": {
      "needs_background": "light"
     },
     "output_type": "display_data"
    },
    {
     "data": {
      "image/png": "[encoded data removed]",
      "text/plain": [
       "<Figure size 432x288 with 1 Axes>"
      ]
     },
     "metadata": {
      "needs_background": "light"
     },
     "output_type": "display_data"
    },
    {
     "data": {
      "image/png": "[encoded data removed]",
      "text/plain": [
       "<Figure size 432x288 with 1 Axes>"
      ]
     },
     "metadata": {
      "needs_background": "light"
     },
     "output_type": "display_data"
    }
   ],
   "source": [
    "#use the same list as above to loop through and make boxplots\n",
    "for col in cat_cols:\n",
    "    sns.boxplot(x=col,y='dmg_total',data=df)\n",
    "    plt.show()"
   ]
  },
  {
   "attachments": {},
   "cell_type": "markdown",
   "metadata": {},
   "source": [
    "# 7. Export the dataset"
   ]
  },
  {
   "cell_type": "code",
   "execution_count": 85,
   "metadata": {},
   "outputs": [],
   "source": [
    "#Simplify the columns names to make dummy variables easier to read\n",
    "new_col_names = {'condominiumIndicator':'condo','elevatedBuildingIndicator':'elevated'\\\n",
    "    ,'numberOfFloorsInTheInsuredBuilding':'num_floors','postFIRMConstructionIndicator':'post_firm'\\\n",
    "    ,'amountPaidOnBuildingClaim':'dmg_bldg','amountPaidOnContentsClaim':'dmg_contents'\\\n",
    "    ,'totalBuildingInsuranceCoverage':'cov_bldg','totalContentsInsuranceCoverage':'cov_contents'}\n",
    "\n",
    "df.rename(columns=new_col_names, inplace=True)"
   ]
  },
  {
   "cell_type": "code",
   "execution_count": 86,
   "metadata": {},
   "outputs": [
    {
     "data": {
      "text/html": [
       "<div>\n",
       "<style scoped>\n",
       "    .dataframe tbody tr th:only-of-type {\n",
       "        vertical-align: middle;\n",
       "    }\n",
       "\n",
       "    .dataframe tbody tr th {\n",
       "        vertical-align: top;\n",
       "    }\n",
       "\n",
       "    .dataframe thead th {\n",
       "        text-align: right;\n",
       "    }\n",
       "</style>\n",
       "<table border=\"1\" class=\"dataframe\">\n",
       "  <thead>\n",
       "    <tr style=\"text-align: right;\">\n",
       "      <th></th>\n",
       "      <th>condo</th>\n",
       "      <th>policyCount</th>\n",
       "      <th>elevated</th>\n",
       "      <th>floodZone</th>\n",
       "      <th>locationOfContents</th>\n",
       "      <th>num_floors</th>\n",
       "      <th>occupancyType</th>\n",
       "      <th>dmg_bldg</th>\n",
       "      <th>dmg_contents</th>\n",
       "      <th>post_firm</th>\n",
       "      <th>cov_bldg</th>\n",
       "      <th>cov_contents</th>\n",
       "      <th>primaryResidence</th>\n",
       "      <th>dmg_total</th>\n",
       "      <th>cov_total</th>\n",
       "      <th>flood_group</th>\n",
       "    </tr>\n",
       "  </thead>\n",
       "  <tbody>\n",
       "    <tr>\n",
       "      <th>0</th>\n",
       "      <td>N</td>\n",
       "      <td>1</td>\n",
       "      <td>0</td>\n",
       "      <td>X</td>\n",
       "      <td>NaN</td>\n",
       "      <td>two</td>\n",
       "      <td>single family</td>\n",
       "      <td>2260.90</td>\n",
       "      <td>0.00</td>\n",
       "      <td>0</td>\n",
       "      <td>185000</td>\n",
       "      <td>60000</td>\n",
       "      <td>0</td>\n",
       "      <td>2260.90</td>\n",
       "      <td>245000</td>\n",
       "      <td>X</td>\n",
       "    </tr>\n",
       "    <tr>\n",
       "      <th>1</th>\n",
       "      <td>N</td>\n",
       "      <td>1</td>\n",
       "      <td>0</td>\n",
       "      <td>X</td>\n",
       "      <td>NaN</td>\n",
       "      <td>one</td>\n",
       "      <td>single family</td>\n",
       "      <td>12183.13</td>\n",
       "      <td>0.00</td>\n",
       "      <td>0</td>\n",
       "      <td>250000</td>\n",
       "      <td>100000</td>\n",
       "      <td>1</td>\n",
       "      <td>12183.13</td>\n",
       "      <td>350000</td>\n",
       "      <td>X</td>\n",
       "    </tr>\n",
       "    <tr>\n",
       "      <th>2</th>\n",
       "      <td>N</td>\n",
       "      <td>1</td>\n",
       "      <td>0</td>\n",
       "      <td>AO</td>\n",
       "      <td>NaN</td>\n",
       "      <td>one</td>\n",
       "      <td>single family</td>\n",
       "      <td>42858.09</td>\n",
       "      <td>32886.55</td>\n",
       "      <td>0</td>\n",
       "      <td>203500</td>\n",
       "      <td>63000</td>\n",
       "      <td>1</td>\n",
       "      <td>75744.64</td>\n",
       "      <td>266500</td>\n",
       "      <td>A</td>\n",
       "    </tr>\n",
       "    <tr>\n",
       "      <th>4</th>\n",
       "      <td>N</td>\n",
       "      <td>1</td>\n",
       "      <td>0</td>\n",
       "      <td>X</td>\n",
       "      <td>Lowest floor and above</td>\n",
       "      <td>two</td>\n",
       "      <td>single family</td>\n",
       "      <td>9765.99</td>\n",
       "      <td>0.00</td>\n",
       "      <td>0</td>\n",
       "      <td>250000</td>\n",
       "      <td>100000</td>\n",
       "      <td>1</td>\n",
       "      <td>9765.99</td>\n",
       "      <td>350000</td>\n",
       "      <td>X</td>\n",
       "    </tr>\n",
       "    <tr>\n",
       "      <th>6</th>\n",
       "      <td>N</td>\n",
       "      <td>1</td>\n",
       "      <td>0</td>\n",
       "      <td>AE</td>\n",
       "      <td>NaN</td>\n",
       "      <td>one</td>\n",
       "      <td>single family</td>\n",
       "      <td>52103.49</td>\n",
       "      <td>30000.00</td>\n",
       "      <td>0</td>\n",
       "      <td>173700</td>\n",
       "      <td>30000</td>\n",
       "      <td>1</td>\n",
       "      <td>82103.49</td>\n",
       "      <td>203700</td>\n",
       "      <td>A</td>\n",
       "    </tr>\n",
       "  </tbody>\n",
       "</table>\n",
       "</div>"
      ],
      "text/plain": [
       "  condo  policyCount  elevated floodZone      locationOfContents num_floors  \\\n",
       "0     N            1         0         X                     NaN        two   \n",
       "1     N            1         0         X                     NaN        one   \n",
       "2     N            1         0        AO                     NaN        one   \n",
       "4     N            1         0         X  Lowest floor and above        two   \n",
       "6     N            1         0        AE                     NaN        one   \n",
       "\n",
       "   occupancyType  dmg_bldg  dmg_contents  post_firm  cov_bldg  cov_contents  \\\n",
       "0  single family   2260.90          0.00          0    185000         60000   \n",
       "1  single family  12183.13          0.00          0    250000        100000   \n",
       "2  single family  42858.09      32886.55          0    203500         63000   \n",
       "4  single family   9765.99          0.00          0    250000        100000   \n",
       "6  single family  52103.49      30000.00          0    173700         30000   \n",
       "\n",
       "   primaryResidence  dmg_total  cov_total flood_group  \n",
       "0                 0    2260.90     245000           X  \n",
       "1                 1   12183.13     350000           X  \n",
       "2                 1   75744.64     266500           A  \n",
       "4                 1    9765.99     350000           X  \n",
       "6                 1   82103.49     203700           A  "
      ]
     },
     "execution_count": 86,
     "metadata": {},
     "output_type": "execute_result"
    }
   ],
   "source": [
    "#review the result\n",
    "df.head()"
   ]
  },
  {
   "cell_type": "code",
   "execution_count": 87,
   "metadata": {},
   "outputs": [],
   "source": [
    "#export to .csv to use for analysis\n",
    "df.to_csv('df_clean.csv')"
   ]
  }
 ],
 "metadata": {
  "kernelspec": {
   "display_name": "base",
   "language": "python",
   "name": "python3"
  },
  "language_info": {
   "codemirror_mode": {
    "name": "ipython",
    "version": 3
   },
   "file_extension": ".py",
   "mimetype": "text/x-python",
   "name": "python",
   "nbconvert_exporter": "python",
   "pygments_lexer": "ipython3",
   "version": "3.8.5"
  },
  "orig_nbformat": 4,
  "vscode": {
   "interpreter": {
    "hash": "48a558f6f849f96653a03d42da6d3043e7a86568579b929ae26b52c6590ebe0e"
   }
  }
 },
 "nbformat": 4,
 "nbformat_minor": 2
}
